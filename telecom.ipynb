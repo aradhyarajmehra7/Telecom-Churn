{
  "nbformat": 4,
  "nbformat_minor": 0,
  "metadata": {
    "kernelspec": {
      "display_name": "Python 3",
      "language": "python",
      "name": "python3"
    },
    "language_info": {
      "codemirror_mode": {
        "name": "ipython",
        "version": 3
      },
      "file_extension": ".py",
      "mimetype": "text/x-python",
      "name": "python",
      "nbconvert_exporter": "python",
      "pygments_lexer": "ipython3",
      "version": "3.8.3"
    },
    "colab": {
      "name": "telecom.ipynb",
      "provenance": [],
      "collapsed_sections": []
    }
  },
  "cells": [
    {
      "cell_type": "code",
      "metadata": {
        "id": "BGWCkpy3axS5"
      },
      "source": [
        "import pandas as pd\n",
        "import numpy as np\n",
        "import seaborn as sns"
      ],
      "execution_count": 1,
      "outputs": []
    },
    {
      "cell_type": "code",
      "metadata": {
        "colab": {
          "resources": {
            "http://localhost:8080/nbextensions/google.colab/files.js": {
              "data": "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",
              "ok": true,
              "headers": [
                [
                  "content-type",
                  "application/javascript"
                ]
              ],
              "status": 200,
              "status_text": ""
            }
          },
          "base_uri": "https://localhost:8080/",
          "height": 73
        },
        "id": "PLoU5bOhaxS7",
        "outputId": "1285919e-3472-4f7f-e3af-9225d61903f8"
      },
      "source": [
        "# import file\r\n",
        "from google.colab import files\r\n",
        "files=files.upload()"
      ],
      "execution_count": 3,
      "outputs": [
        {
          "output_type": "display_data",
          "data": {
            "text/html": [
              "\n",
              "     <input type=\"file\" id=\"files-3980b0b7-d59c-4ea1-bf52-8c0cba0a5332\" name=\"files[]\" multiple disabled\n",
              "        style=\"border:none\" />\n",
              "     <output id=\"result-3980b0b7-d59c-4ea1-bf52-8c0cba0a5332\">\n",
              "      Upload widget is only available when the cell has been executed in the\n",
              "      current browser session. Please rerun this cell to enable.\n",
              "      </output>\n",
              "      <script src=\"/nbextensions/google.colab/files.js\"></script> "
            ],
            "text/plain": [
              "<IPython.core.display.HTML object>"
            ]
          },
          "metadata": {
            "tags": []
          }
        },
        {
          "output_type": "stream",
          "text": [
            "Saving telecom_churn_data.csv to telecom_churn_data.csv\n"
          ],
          "name": "stdout"
        }
      ]
    },
    {
      "cell_type": "code",
      "metadata": {
        "id": "oK9BgwLTbF7R"
      },
      "source": [
        "df=pd.read_csv('telecom_churn_data.csv')"
      ],
      "execution_count": 91,
      "outputs": []
    },
    {
      "cell_type": "code",
      "metadata": {
        "colab": {
          "base_uri": "https://localhost:8080/"
        },
        "id": "Bg0I53-taxS8",
        "outputId": "a10641c8-1d21-4eba-bb9f-44813262095d"
      },
      "source": [
        "df.shape"
      ],
      "execution_count": 92,
      "outputs": [
        {
          "output_type": "execute_result",
          "data": {
            "text/plain": [
              "(99999, 226)"
            ]
          },
          "metadata": {
            "tags": []
          },
          "execution_count": 92
        }
      ]
    },
    {
      "cell_type": "code",
      "metadata": {
        "colab": {
          "base_uri": "https://localhost:8080/",
          "height": 155
        },
        "id": "DFpp9I2LaxS9",
        "outputId": "efec3271-cecd-4fe3-bd42-2559944c6756"
      },
      "source": [
        "df.head(2)"
      ],
      "execution_count": 93,
      "outputs": [
        {
          "output_type": "execute_result",
          "data": {
            "text/html": [
              "<div>\n",
              "<style scoped>\n",
              "    .dataframe tbody tr th:only-of-type {\n",
              "        vertical-align: middle;\n",
              "    }\n",
              "\n",
              "    .dataframe tbody tr th {\n",
              "        vertical-align: top;\n",
              "    }\n",
              "\n",
              "    .dataframe thead th {\n",
              "        text-align: right;\n",
              "    }\n",
              "</style>\n",
              "<table border=\"1\" class=\"dataframe\">\n",
              "  <thead>\n",
              "    <tr style=\"text-align: right;\">\n",
              "      <th></th>\n",
              "      <th>mobile_number</th>\n",
              "      <th>circle_id</th>\n",
              "      <th>loc_og_t2o_mou</th>\n",
              "      <th>std_og_t2o_mou</th>\n",
              "      <th>loc_ic_t2o_mou</th>\n",
              "      <th>last_date_of_month_6</th>\n",
              "      <th>last_date_of_month_7</th>\n",
              "      <th>last_date_of_month_8</th>\n",
              "      <th>last_date_of_month_9</th>\n",
              "      <th>arpu_6</th>\n",
              "      <th>arpu_7</th>\n",
              "      <th>arpu_8</th>\n",
              "      <th>arpu_9</th>\n",
              "      <th>onnet_mou_6</th>\n",
              "      <th>onnet_mou_7</th>\n",
              "      <th>onnet_mou_8</th>\n",
              "      <th>onnet_mou_9</th>\n",
              "      <th>offnet_mou_6</th>\n",
              "      <th>offnet_mou_7</th>\n",
              "      <th>offnet_mou_8</th>\n",
              "      <th>offnet_mou_9</th>\n",
              "      <th>roam_ic_mou_6</th>\n",
              "      <th>roam_ic_mou_7</th>\n",
              "      <th>roam_ic_mou_8</th>\n",
              "      <th>roam_ic_mou_9</th>\n",
              "      <th>roam_og_mou_6</th>\n",
              "      <th>roam_og_mou_7</th>\n",
              "      <th>roam_og_mou_8</th>\n",
              "      <th>roam_og_mou_9</th>\n",
              "      <th>loc_og_t2t_mou_6</th>\n",
              "      <th>loc_og_t2t_mou_7</th>\n",
              "      <th>loc_og_t2t_mou_8</th>\n",
              "      <th>loc_og_t2t_mou_9</th>\n",
              "      <th>loc_og_t2m_mou_6</th>\n",
              "      <th>loc_og_t2m_mou_7</th>\n",
              "      <th>loc_og_t2m_mou_8</th>\n",
              "      <th>loc_og_t2m_mou_9</th>\n",
              "      <th>loc_og_t2f_mou_6</th>\n",
              "      <th>loc_og_t2f_mou_7</th>\n",
              "      <th>loc_og_t2f_mou_8</th>\n",
              "      <th>...</th>\n",
              "      <th>vol_3g_mb_7</th>\n",
              "      <th>vol_3g_mb_8</th>\n",
              "      <th>vol_3g_mb_9</th>\n",
              "      <th>arpu_3g_6</th>\n",
              "      <th>arpu_3g_7</th>\n",
              "      <th>arpu_3g_8</th>\n",
              "      <th>arpu_3g_9</th>\n",
              "      <th>arpu_2g_6</th>\n",
              "      <th>arpu_2g_7</th>\n",
              "      <th>arpu_2g_8</th>\n",
              "      <th>arpu_2g_9</th>\n",
              "      <th>night_pck_user_6</th>\n",
              "      <th>night_pck_user_7</th>\n",
              "      <th>night_pck_user_8</th>\n",
              "      <th>night_pck_user_9</th>\n",
              "      <th>monthly_2g_6</th>\n",
              "      <th>monthly_2g_7</th>\n",
              "      <th>monthly_2g_8</th>\n",
              "      <th>monthly_2g_9</th>\n",
              "      <th>sachet_2g_6</th>\n",
              "      <th>sachet_2g_7</th>\n",
              "      <th>sachet_2g_8</th>\n",
              "      <th>sachet_2g_9</th>\n",
              "      <th>monthly_3g_6</th>\n",
              "      <th>monthly_3g_7</th>\n",
              "      <th>monthly_3g_8</th>\n",
              "      <th>monthly_3g_9</th>\n",
              "      <th>sachet_3g_6</th>\n",
              "      <th>sachet_3g_7</th>\n",
              "      <th>sachet_3g_8</th>\n",
              "      <th>sachet_3g_9</th>\n",
              "      <th>fb_user_6</th>\n",
              "      <th>fb_user_7</th>\n",
              "      <th>fb_user_8</th>\n",
              "      <th>fb_user_9</th>\n",
              "      <th>aon</th>\n",
              "      <th>aug_vbc_3g</th>\n",
              "      <th>jul_vbc_3g</th>\n",
              "      <th>jun_vbc_3g</th>\n",
              "      <th>sep_vbc_3g</th>\n",
              "    </tr>\n",
              "  </thead>\n",
              "  <tbody>\n",
              "    <tr>\n",
              "      <th>0</th>\n",
              "      <td>7000842753</td>\n",
              "      <td>109</td>\n",
              "      <td>0.0</td>\n",
              "      <td>0.0</td>\n",
              "      <td>0.0</td>\n",
              "      <td>6/30/2014</td>\n",
              "      <td>7/31/2014</td>\n",
              "      <td>8/31/2014</td>\n",
              "      <td>9/30/2014</td>\n",
              "      <td>197.385</td>\n",
              "      <td>214.816</td>\n",
              "      <td>213.803</td>\n",
              "      <td>21.100</td>\n",
              "      <td>NaN</td>\n",
              "      <td>NaN</td>\n",
              "      <td>0.00</td>\n",
              "      <td>NaN</td>\n",
              "      <td>NaN</td>\n",
              "      <td>NaN</td>\n",
              "      <td>0.00</td>\n",
              "      <td>NaN</td>\n",
              "      <td>NaN</td>\n",
              "      <td>NaN</td>\n",
              "      <td>0.0</td>\n",
              "      <td>NaN</td>\n",
              "      <td>NaN</td>\n",
              "      <td>NaN</td>\n",
              "      <td>0.0</td>\n",
              "      <td>NaN</td>\n",
              "      <td>NaN</td>\n",
              "      <td>NaN</td>\n",
              "      <td>0.00</td>\n",
              "      <td>NaN</td>\n",
              "      <td>NaN</td>\n",
              "      <td>NaN</td>\n",
              "      <td>0.00</td>\n",
              "      <td>NaN</td>\n",
              "      <td>NaN</td>\n",
              "      <td>NaN</td>\n",
              "      <td>0.0</td>\n",
              "      <td>...</td>\n",
              "      <td>150.76</td>\n",
              "      <td>109.61</td>\n",
              "      <td>0.0</td>\n",
              "      <td>212.17</td>\n",
              "      <td>212.17</td>\n",
              "      <td>212.17</td>\n",
              "      <td>NaN</td>\n",
              "      <td>212.17</td>\n",
              "      <td>212.17</td>\n",
              "      <td>212.17</td>\n",
              "      <td>NaN</td>\n",
              "      <td>0.0</td>\n",
              "      <td>0.0</td>\n",
              "      <td>0.0</td>\n",
              "      <td>NaN</td>\n",
              "      <td>0</td>\n",
              "      <td>0</td>\n",
              "      <td>0</td>\n",
              "      <td>0</td>\n",
              "      <td>0</td>\n",
              "      <td>0</td>\n",
              "      <td>0</td>\n",
              "      <td>0</td>\n",
              "      <td>1</td>\n",
              "      <td>1</td>\n",
              "      <td>1</td>\n",
              "      <td>0</td>\n",
              "      <td>0</td>\n",
              "      <td>0</td>\n",
              "      <td>0</td>\n",
              "      <td>0</td>\n",
              "      <td>1.0</td>\n",
              "      <td>1.0</td>\n",
              "      <td>1.0</td>\n",
              "      <td>NaN</td>\n",
              "      <td>968</td>\n",
              "      <td>30.4</td>\n",
              "      <td>0.0</td>\n",
              "      <td>101.2</td>\n",
              "      <td>3.58</td>\n",
              "    </tr>\n",
              "    <tr>\n",
              "      <th>1</th>\n",
              "      <td>7001865778</td>\n",
              "      <td>109</td>\n",
              "      <td>0.0</td>\n",
              "      <td>0.0</td>\n",
              "      <td>0.0</td>\n",
              "      <td>6/30/2014</td>\n",
              "      <td>7/31/2014</td>\n",
              "      <td>8/31/2014</td>\n",
              "      <td>9/30/2014</td>\n",
              "      <td>34.047</td>\n",
              "      <td>355.074</td>\n",
              "      <td>268.321</td>\n",
              "      <td>86.285</td>\n",
              "      <td>24.11</td>\n",
              "      <td>78.68</td>\n",
              "      <td>7.68</td>\n",
              "      <td>18.34</td>\n",
              "      <td>15.74</td>\n",
              "      <td>99.84</td>\n",
              "      <td>304.76</td>\n",
              "      <td>53.76</td>\n",
              "      <td>0.0</td>\n",
              "      <td>0.0</td>\n",
              "      <td>0.0</td>\n",
              "      <td>0.0</td>\n",
              "      <td>0.0</td>\n",
              "      <td>0.0</td>\n",
              "      <td>0.0</td>\n",
              "      <td>0.0</td>\n",
              "      <td>23.88</td>\n",
              "      <td>74.56</td>\n",
              "      <td>7.68</td>\n",
              "      <td>18.34</td>\n",
              "      <td>11.51</td>\n",
              "      <td>75.94</td>\n",
              "      <td>291.86</td>\n",
              "      <td>53.76</td>\n",
              "      <td>0.0</td>\n",
              "      <td>0.0</td>\n",
              "      <td>0.0</td>\n",
              "      <td>...</td>\n",
              "      <td>0.00</td>\n",
              "      <td>0.00</td>\n",
              "      <td>0.0</td>\n",
              "      <td>NaN</td>\n",
              "      <td>0.00</td>\n",
              "      <td>0.00</td>\n",
              "      <td>NaN</td>\n",
              "      <td>NaN</td>\n",
              "      <td>28.61</td>\n",
              "      <td>7.60</td>\n",
              "      <td>NaN</td>\n",
              "      <td>NaN</td>\n",
              "      <td>0.0</td>\n",
              "      <td>0.0</td>\n",
              "      <td>NaN</td>\n",
              "      <td>0</td>\n",
              "      <td>1</td>\n",
              "      <td>0</td>\n",
              "      <td>0</td>\n",
              "      <td>0</td>\n",
              "      <td>0</td>\n",
              "      <td>2</td>\n",
              "      <td>0</td>\n",
              "      <td>0</td>\n",
              "      <td>0</td>\n",
              "      <td>0</td>\n",
              "      <td>0</td>\n",
              "      <td>0</td>\n",
              "      <td>0</td>\n",
              "      <td>0</td>\n",
              "      <td>0</td>\n",
              "      <td>NaN</td>\n",
              "      <td>1.0</td>\n",
              "      <td>1.0</td>\n",
              "      <td>NaN</td>\n",
              "      <td>1006</td>\n",
              "      <td>0.0</td>\n",
              "      <td>0.0</td>\n",
              "      <td>0.0</td>\n",
              "      <td>0.00</td>\n",
              "    </tr>\n",
              "  </tbody>\n",
              "</table>\n",
              "<p>2 rows × 226 columns</p>\n",
              "</div>"
            ],
            "text/plain": [
              "   mobile_number  circle_id  loc_og_t2o_mou  ...  jul_vbc_3g  jun_vbc_3g sep_vbc_3g\n",
              "0     7000842753        109             0.0  ...         0.0       101.2       3.58\n",
              "1     7001865778        109             0.0  ...         0.0         0.0       0.00\n",
              "\n",
              "[2 rows x 226 columns]"
            ]
          },
          "metadata": {
            "tags": []
          },
          "execution_count": 93
        }
      ]
    },
    {
      "cell_type": "code",
      "metadata": {
        "id": "Sl0Nzct-axS9"
      },
      "source": [
        "null_values=pd.DataFrame(df.isnull().sum())"
      ],
      "execution_count": 94,
      "outputs": []
    },
    {
      "cell_type": "code",
      "metadata": {
        "id": "bvQQCgXxaxS-"
      },
      "source": [
        "null_values.reset_index(level=0, inplace=True) "
      ],
      "execution_count": 95,
      "outputs": []
    },
    {
      "cell_type": "code",
      "metadata": {
        "id": "JRtdQ_NTaxS_"
      },
      "source": [
        "null_values.columns =['Feature', 'Null_values'] "
      ],
      "execution_count": 96,
      "outputs": []
    },
    {
      "cell_type": "code",
      "metadata": {
        "colab": {
          "base_uri": "https://localhost:8080/",
          "height": 399
        },
        "id": "9ZRTL3bUaxS_",
        "outputId": "60b89291-51c9-494a-f755-c0962c0f738a"
      },
      "source": [
        "null_values"
      ],
      "execution_count": 97,
      "outputs": [
        {
          "output_type": "execute_result",
          "data": {
            "text/html": [
              "<div>\n",
              "<style scoped>\n",
              "    .dataframe tbody tr th:only-of-type {\n",
              "        vertical-align: middle;\n",
              "    }\n",
              "\n",
              "    .dataframe tbody tr th {\n",
              "        vertical-align: top;\n",
              "    }\n",
              "\n",
              "    .dataframe thead th {\n",
              "        text-align: right;\n",
              "    }\n",
              "</style>\n",
              "<table border=\"1\" class=\"dataframe\">\n",
              "  <thead>\n",
              "    <tr style=\"text-align: right;\">\n",
              "      <th></th>\n",
              "      <th>Feature</th>\n",
              "      <th>Null_values</th>\n",
              "    </tr>\n",
              "  </thead>\n",
              "  <tbody>\n",
              "    <tr>\n",
              "      <th>0</th>\n",
              "      <td>mobile_number</td>\n",
              "      <td>0</td>\n",
              "    </tr>\n",
              "    <tr>\n",
              "      <th>1</th>\n",
              "      <td>circle_id</td>\n",
              "      <td>0</td>\n",
              "    </tr>\n",
              "    <tr>\n",
              "      <th>2</th>\n",
              "      <td>loc_og_t2o_mou</td>\n",
              "      <td>1018</td>\n",
              "    </tr>\n",
              "    <tr>\n",
              "      <th>3</th>\n",
              "      <td>std_og_t2o_mou</td>\n",
              "      <td>1018</td>\n",
              "    </tr>\n",
              "    <tr>\n",
              "      <th>4</th>\n",
              "      <td>loc_ic_t2o_mou</td>\n",
              "      <td>1018</td>\n",
              "    </tr>\n",
              "    <tr>\n",
              "      <th>...</th>\n",
              "      <td>...</td>\n",
              "      <td>...</td>\n",
              "    </tr>\n",
              "    <tr>\n",
              "      <th>221</th>\n",
              "      <td>aon</td>\n",
              "      <td>0</td>\n",
              "    </tr>\n",
              "    <tr>\n",
              "      <th>222</th>\n",
              "      <td>aug_vbc_3g</td>\n",
              "      <td>0</td>\n",
              "    </tr>\n",
              "    <tr>\n",
              "      <th>223</th>\n",
              "      <td>jul_vbc_3g</td>\n",
              "      <td>0</td>\n",
              "    </tr>\n",
              "    <tr>\n",
              "      <th>224</th>\n",
              "      <td>jun_vbc_3g</td>\n",
              "      <td>0</td>\n",
              "    </tr>\n",
              "    <tr>\n",
              "      <th>225</th>\n",
              "      <td>sep_vbc_3g</td>\n",
              "      <td>0</td>\n",
              "    </tr>\n",
              "  </tbody>\n",
              "</table>\n",
              "<p>226 rows × 2 columns</p>\n",
              "</div>"
            ],
            "text/plain": [
              "            Feature  Null_values\n",
              "0     mobile_number            0\n",
              "1         circle_id            0\n",
              "2    loc_og_t2o_mou         1018\n",
              "3    std_og_t2o_mou         1018\n",
              "4    loc_ic_t2o_mou         1018\n",
              "..              ...          ...\n",
              "221             aon            0\n",
              "222      aug_vbc_3g            0\n",
              "223      jul_vbc_3g            0\n",
              "224      jun_vbc_3g            0\n",
              "225      sep_vbc_3g            0\n",
              "\n",
              "[226 rows x 2 columns]"
            ]
          },
          "metadata": {
            "tags": []
          },
          "execution_count": 97
        }
      ]
    },
    {
      "cell_type": "code",
      "metadata": {
        "colab": {
          "base_uri": "https://localhost:8080/",
          "height": 283
        },
        "id": "c8mX_mRcaxS_",
        "outputId": "6c2780d9-f9ff-4235-c945-92acfecf9a8d"
      },
      "source": [
        "null_values['Null_values'].plot()"
      ],
      "execution_count": 98,
      "outputs": [
        {
          "output_type": "execute_result",
          "data": {
            "text/plain": [
              "<matplotlib.axes._subplots.AxesSubplot at 0x7f35aa6409b0>"
            ]
          },
          "metadata": {
            "tags": []
          },
          "execution_count": 98
        },
        {
          "output_type": "display_data",
          "data": {
            "image/png": "[encoded data removed]",
            "text/plain": [
              "<Figure size 432x288 with 1 Axes>"
            ]
          },
          "metadata": {
            "tags": [],
            "needs_background": "light"
          }
        }
      ]
    },
    {
      "cell_type": "markdown",
      "metadata": {
        "id": "7pzxjl3JaxTA"
      },
      "source": [
        "##### drop feature with more than 50% of null values"
      ]
    },
    {
      "cell_type": "code",
      "metadata": {
        "id": "Q7B-MnPmaxTA"
      },
      "source": [
        "thresh = len(df) * .5\n",
        "df.dropna(thresh = thresh, axis = 1, inplace = True)"
      ],
      "execution_count": 99,
      "outputs": []
    },
    {
      "cell_type": "code",
      "metadata": {
        "colab": {
          "base_uri": "https://localhost:8080/"
        },
        "id": "Ewzuv1miaxTA",
        "outputId": "25d0ca4b-3db6-4b12-b5e3-cfc47b7d9a1f"
      },
      "source": [
        "df.shape"
      ],
      "execution_count": 100,
      "outputs": [
        {
          "output_type": "execute_result",
          "data": {
            "text/plain": [
              "(99999, 186)"
            ]
          },
          "metadata": {
            "tags": []
          },
          "execution_count": 100
        }
      ]
    },
    {
      "cell_type": "code",
      "metadata": {
        "id": "tmxSMkURaxTA"
      },
      "source": [
        "df['avg_6_7']=df[['total_rech_amt_6','total_rech_amt_7']].mean(axis=1)"
      ],
      "execution_count": 101,
      "outputs": []
    },
    {
      "cell_type": "code",
      "metadata": {
        "colab": {
          "base_uri": "https://localhost:8080/",
          "height": 243
        },
        "id": "UVBrdU84axTA",
        "outputId": "7787d5d2-1563-43bb-a264-5d4258491d3f"
      },
      "source": [
        "df.head()"
      ],
      "execution_count": 102,
      "outputs": [
        {
          "output_type": "execute_result",
          "data": {
            "text/html": [
              "<div>\n",
              "<style scoped>\n",
              "    .dataframe tbody tr th:only-of-type {\n",
              "        vertical-align: middle;\n",
              "    }\n",
              "\n",
              "    .dataframe tbody tr th {\n",
              "        vertical-align: top;\n",
              "    }\n",
              "\n",
              "    .dataframe thead th {\n",
              "        text-align: right;\n",
              "    }\n",
              "</style>\n",
              "<table border=\"1\" class=\"dataframe\">\n",
              "  <thead>\n",
              "    <tr style=\"text-align: right;\">\n",
              "      <th></th>\n",
              "      <th>mobile_number</th>\n",
              "      <th>circle_id</th>\n",
              "      <th>loc_og_t2o_mou</th>\n",
              "      <th>std_og_t2o_mou</th>\n",
              "      <th>loc_ic_t2o_mou</th>\n",
              "      <th>last_date_of_month_6</th>\n",
              "      <th>last_date_of_month_7</th>\n",
              "      <th>last_date_of_month_8</th>\n",
              "      <th>last_date_of_month_9</th>\n",
              "      <th>arpu_6</th>\n",
              "      <th>arpu_7</th>\n",
              "      <th>arpu_8</th>\n",
              "      <th>arpu_9</th>\n",
              "      <th>onnet_mou_6</th>\n",
              "      <th>onnet_mou_7</th>\n",
              "      <th>onnet_mou_8</th>\n",
              "      <th>onnet_mou_9</th>\n",
              "      <th>offnet_mou_6</th>\n",
              "      <th>offnet_mou_7</th>\n",
              "      <th>offnet_mou_8</th>\n",
              "      <th>offnet_mou_9</th>\n",
              "      <th>roam_ic_mou_6</th>\n",
              "      <th>roam_ic_mou_7</th>\n",
              "      <th>roam_ic_mou_8</th>\n",
              "      <th>roam_ic_mou_9</th>\n",
              "      <th>roam_og_mou_6</th>\n",
              "      <th>roam_og_mou_7</th>\n",
              "      <th>roam_og_mou_8</th>\n",
              "      <th>roam_og_mou_9</th>\n",
              "      <th>loc_og_t2t_mou_6</th>\n",
              "      <th>loc_og_t2t_mou_7</th>\n",
              "      <th>loc_og_t2t_mou_8</th>\n",
              "      <th>loc_og_t2t_mou_9</th>\n",
              "      <th>loc_og_t2m_mou_6</th>\n",
              "      <th>loc_og_t2m_mou_7</th>\n",
              "      <th>loc_og_t2m_mou_8</th>\n",
              "      <th>loc_og_t2m_mou_9</th>\n",
              "      <th>loc_og_t2f_mou_6</th>\n",
              "      <th>loc_og_t2f_mou_7</th>\n",
              "      <th>loc_og_t2f_mou_8</th>\n",
              "      <th>...</th>\n",
              "      <th>max_rech_amt_8</th>\n",
              "      <th>max_rech_amt_9</th>\n",
              "      <th>date_of_last_rech_6</th>\n",
              "      <th>date_of_last_rech_7</th>\n",
              "      <th>date_of_last_rech_8</th>\n",
              "      <th>date_of_last_rech_9</th>\n",
              "      <th>last_day_rch_amt_6</th>\n",
              "      <th>last_day_rch_amt_7</th>\n",
              "      <th>last_day_rch_amt_8</th>\n",
              "      <th>last_day_rch_amt_9</th>\n",
              "      <th>vol_2g_mb_6</th>\n",
              "      <th>vol_2g_mb_7</th>\n",
              "      <th>vol_2g_mb_8</th>\n",
              "      <th>vol_2g_mb_9</th>\n",
              "      <th>vol_3g_mb_6</th>\n",
              "      <th>vol_3g_mb_7</th>\n",
              "      <th>vol_3g_mb_8</th>\n",
              "      <th>vol_3g_mb_9</th>\n",
              "      <th>monthly_2g_6</th>\n",
              "      <th>monthly_2g_7</th>\n",
              "      <th>monthly_2g_8</th>\n",
              "      <th>monthly_2g_9</th>\n",
              "      <th>sachet_2g_6</th>\n",
              "      <th>sachet_2g_7</th>\n",
              "      <th>sachet_2g_8</th>\n",
              "      <th>sachet_2g_9</th>\n",
              "      <th>monthly_3g_6</th>\n",
              "      <th>monthly_3g_7</th>\n",
              "      <th>monthly_3g_8</th>\n",
              "      <th>monthly_3g_9</th>\n",
              "      <th>sachet_3g_6</th>\n",
              "      <th>sachet_3g_7</th>\n",
              "      <th>sachet_3g_8</th>\n",
              "      <th>sachet_3g_9</th>\n",
              "      <th>aon</th>\n",
              "      <th>aug_vbc_3g</th>\n",
              "      <th>jul_vbc_3g</th>\n",
              "      <th>jun_vbc_3g</th>\n",
              "      <th>sep_vbc_3g</th>\n",
              "      <th>avg_6_7</th>\n",
              "    </tr>\n",
              "  </thead>\n",
              "  <tbody>\n",
              "    <tr>\n",
              "      <th>0</th>\n",
              "      <td>7000842753</td>\n",
              "      <td>109</td>\n",
              "      <td>0.0</td>\n",
              "      <td>0.0</td>\n",
              "      <td>0.0</td>\n",
              "      <td>6/30/2014</td>\n",
              "      <td>7/31/2014</td>\n",
              "      <td>8/31/2014</td>\n",
              "      <td>9/30/2014</td>\n",
              "      <td>197.385</td>\n",
              "      <td>214.816</td>\n",
              "      <td>213.803</td>\n",
              "      <td>21.100</td>\n",
              "      <td>NaN</td>\n",
              "      <td>NaN</td>\n",
              "      <td>0.00</td>\n",
              "      <td>NaN</td>\n",
              "      <td>NaN</td>\n",
              "      <td>NaN</td>\n",
              "      <td>0.00</td>\n",
              "      <td>NaN</td>\n",
              "      <td>NaN</td>\n",
              "      <td>NaN</td>\n",
              "      <td>0.00</td>\n",
              "      <td>NaN</td>\n",
              "      <td>NaN</td>\n",
              "      <td>NaN</td>\n",
              "      <td>0.00</td>\n",
              "      <td>NaN</td>\n",
              "      <td>NaN</td>\n",
              "      <td>NaN</td>\n",
              "      <td>0.00</td>\n",
              "      <td>NaN</td>\n",
              "      <td>NaN</td>\n",
              "      <td>NaN</td>\n",
              "      <td>0.00</td>\n",
              "      <td>NaN</td>\n",
              "      <td>NaN</td>\n",
              "      <td>NaN</td>\n",
              "      <td>0.00</td>\n",
              "      <td>...</td>\n",
              "      <td>252</td>\n",
              "      <td>0</td>\n",
              "      <td>6/21/2014</td>\n",
              "      <td>7/16/2014</td>\n",
              "      <td>08-08-2014</td>\n",
              "      <td>9/28/2014</td>\n",
              "      <td>252</td>\n",
              "      <td>252</td>\n",
              "      <td>252</td>\n",
              "      <td>0</td>\n",
              "      <td>30.13</td>\n",
              "      <td>1.32</td>\n",
              "      <td>5.75</td>\n",
              "      <td>0.0</td>\n",
              "      <td>83.57</td>\n",
              "      <td>150.76</td>\n",
              "      <td>109.61</td>\n",
              "      <td>0.00</td>\n",
              "      <td>0</td>\n",
              "      <td>0</td>\n",
              "      <td>0</td>\n",
              "      <td>0</td>\n",
              "      <td>0</td>\n",
              "      <td>0</td>\n",
              "      <td>0</td>\n",
              "      <td>0</td>\n",
              "      <td>1</td>\n",
              "      <td>1</td>\n",
              "      <td>1</td>\n",
              "      <td>0</td>\n",
              "      <td>0</td>\n",
              "      <td>0</td>\n",
              "      <td>0</td>\n",
              "      <td>0</td>\n",
              "      <td>968</td>\n",
              "      <td>30.4</td>\n",
              "      <td>0.0</td>\n",
              "      <td>101.20</td>\n",
              "      <td>3.58</td>\n",
              "      <td>307.0</td>\n",
              "    </tr>\n",
              "    <tr>\n",
              "      <th>1</th>\n",
              "      <td>7001865778</td>\n",
              "      <td>109</td>\n",
              "      <td>0.0</td>\n",
              "      <td>0.0</td>\n",
              "      <td>0.0</td>\n",
              "      <td>6/30/2014</td>\n",
              "      <td>7/31/2014</td>\n",
              "      <td>8/31/2014</td>\n",
              "      <td>9/30/2014</td>\n",
              "      <td>34.047</td>\n",
              "      <td>355.074</td>\n",
              "      <td>268.321</td>\n",
              "      <td>86.285</td>\n",
              "      <td>24.11</td>\n",
              "      <td>78.68</td>\n",
              "      <td>7.68</td>\n",
              "      <td>18.34</td>\n",
              "      <td>15.74</td>\n",
              "      <td>99.84</td>\n",
              "      <td>304.76</td>\n",
              "      <td>53.76</td>\n",
              "      <td>0.0</td>\n",
              "      <td>0.00</td>\n",
              "      <td>0.00</td>\n",
              "      <td>0.00</td>\n",
              "      <td>0.0</td>\n",
              "      <td>0.00</td>\n",
              "      <td>0.00</td>\n",
              "      <td>0.00</td>\n",
              "      <td>23.88</td>\n",
              "      <td>74.56</td>\n",
              "      <td>7.68</td>\n",
              "      <td>18.34</td>\n",
              "      <td>11.51</td>\n",
              "      <td>75.94</td>\n",
              "      <td>291.86</td>\n",
              "      <td>53.76</td>\n",
              "      <td>0.00</td>\n",
              "      <td>0.00</td>\n",
              "      <td>0.00</td>\n",
              "      <td>...</td>\n",
              "      <td>65</td>\n",
              "      <td>50</td>\n",
              "      <td>6/29/2014</td>\n",
              "      <td>7/31/2014</td>\n",
              "      <td>8/28/2014</td>\n",
              "      <td>9/30/2014</td>\n",
              "      <td>44</td>\n",
              "      <td>23</td>\n",
              "      <td>30</td>\n",
              "      <td>0</td>\n",
              "      <td>0.00</td>\n",
              "      <td>108.07</td>\n",
              "      <td>365.47</td>\n",
              "      <td>0.0</td>\n",
              "      <td>0.00</td>\n",
              "      <td>0.00</td>\n",
              "      <td>0.00</td>\n",
              "      <td>0.00</td>\n",
              "      <td>0</td>\n",
              "      <td>1</td>\n",
              "      <td>0</td>\n",
              "      <td>0</td>\n",
              "      <td>0</td>\n",
              "      <td>0</td>\n",
              "      <td>2</td>\n",
              "      <td>0</td>\n",
              "      <td>0</td>\n",
              "      <td>0</td>\n",
              "      <td>0</td>\n",
              "      <td>0</td>\n",
              "      <td>0</td>\n",
              "      <td>0</td>\n",
              "      <td>0</td>\n",
              "      <td>0</td>\n",
              "      <td>1006</td>\n",
              "      <td>0.0</td>\n",
              "      <td>0.0</td>\n",
              "      <td>0.00</td>\n",
              "      <td>0.00</td>\n",
              "      <td>229.0</td>\n",
              "    </tr>\n",
              "    <tr>\n",
              "      <th>2</th>\n",
              "      <td>7001625959</td>\n",
              "      <td>109</td>\n",
              "      <td>0.0</td>\n",
              "      <td>0.0</td>\n",
              "      <td>0.0</td>\n",
              "      <td>6/30/2014</td>\n",
              "      <td>7/31/2014</td>\n",
              "      <td>8/31/2014</td>\n",
              "      <td>9/30/2014</td>\n",
              "      <td>167.690</td>\n",
              "      <td>189.058</td>\n",
              "      <td>210.226</td>\n",
              "      <td>290.714</td>\n",
              "      <td>11.54</td>\n",
              "      <td>55.24</td>\n",
              "      <td>37.26</td>\n",
              "      <td>74.81</td>\n",
              "      <td>143.33</td>\n",
              "      <td>220.59</td>\n",
              "      <td>208.36</td>\n",
              "      <td>118.91</td>\n",
              "      <td>0.0</td>\n",
              "      <td>0.00</td>\n",
              "      <td>0.00</td>\n",
              "      <td>38.49</td>\n",
              "      <td>0.0</td>\n",
              "      <td>0.00</td>\n",
              "      <td>0.00</td>\n",
              "      <td>70.94</td>\n",
              "      <td>7.19</td>\n",
              "      <td>28.74</td>\n",
              "      <td>13.58</td>\n",
              "      <td>14.39</td>\n",
              "      <td>29.34</td>\n",
              "      <td>16.86</td>\n",
              "      <td>38.46</td>\n",
              "      <td>28.16</td>\n",
              "      <td>24.11</td>\n",
              "      <td>21.79</td>\n",
              "      <td>15.61</td>\n",
              "      <td>...</td>\n",
              "      <td>86</td>\n",
              "      <td>100</td>\n",
              "      <td>6/17/2014</td>\n",
              "      <td>7/24/2014</td>\n",
              "      <td>8/14/2014</td>\n",
              "      <td>9/29/2014</td>\n",
              "      <td>0</td>\n",
              "      <td>200</td>\n",
              "      <td>86</td>\n",
              "      <td>0</td>\n",
              "      <td>0.00</td>\n",
              "      <td>0.00</td>\n",
              "      <td>0.00</td>\n",
              "      <td>0.0</td>\n",
              "      <td>0.00</td>\n",
              "      <td>0.00</td>\n",
              "      <td>0.00</td>\n",
              "      <td>8.42</td>\n",
              "      <td>0</td>\n",
              "      <td>0</td>\n",
              "      <td>0</td>\n",
              "      <td>0</td>\n",
              "      <td>0</td>\n",
              "      <td>0</td>\n",
              "      <td>0</td>\n",
              "      <td>1</td>\n",
              "      <td>0</td>\n",
              "      <td>0</td>\n",
              "      <td>0</td>\n",
              "      <td>0</td>\n",
              "      <td>0</td>\n",
              "      <td>0</td>\n",
              "      <td>0</td>\n",
              "      <td>0</td>\n",
              "      <td>1103</td>\n",
              "      <td>0.0</td>\n",
              "      <td>0.0</td>\n",
              "      <td>4.17</td>\n",
              "      <td>0.00</td>\n",
              "      <td>241.5</td>\n",
              "    </tr>\n",
              "    <tr>\n",
              "      <th>3</th>\n",
              "      <td>7001204172</td>\n",
              "      <td>109</td>\n",
              "      <td>0.0</td>\n",
              "      <td>0.0</td>\n",
              "      <td>0.0</td>\n",
              "      <td>6/30/2014</td>\n",
              "      <td>7/31/2014</td>\n",
              "      <td>8/31/2014</td>\n",
              "      <td>9/30/2014</td>\n",
              "      <td>221.338</td>\n",
              "      <td>251.102</td>\n",
              "      <td>508.054</td>\n",
              "      <td>389.500</td>\n",
              "      <td>99.91</td>\n",
              "      <td>54.39</td>\n",
              "      <td>310.98</td>\n",
              "      <td>241.71</td>\n",
              "      <td>123.31</td>\n",
              "      <td>109.01</td>\n",
              "      <td>71.68</td>\n",
              "      <td>113.54</td>\n",
              "      <td>0.0</td>\n",
              "      <td>54.86</td>\n",
              "      <td>44.38</td>\n",
              "      <td>0.00</td>\n",
              "      <td>0.0</td>\n",
              "      <td>28.09</td>\n",
              "      <td>39.04</td>\n",
              "      <td>0.00</td>\n",
              "      <td>73.68</td>\n",
              "      <td>34.81</td>\n",
              "      <td>10.61</td>\n",
              "      <td>15.49</td>\n",
              "      <td>107.43</td>\n",
              "      <td>83.21</td>\n",
              "      <td>22.46</td>\n",
              "      <td>65.46</td>\n",
              "      <td>1.91</td>\n",
              "      <td>0.65</td>\n",
              "      <td>4.91</td>\n",
              "      <td>...</td>\n",
              "      <td>50</td>\n",
              "      <td>50</td>\n",
              "      <td>6/28/2014</td>\n",
              "      <td>7/31/2014</td>\n",
              "      <td>8/31/2014</td>\n",
              "      <td>9/30/2014</td>\n",
              "      <td>30</td>\n",
              "      <td>50</td>\n",
              "      <td>50</td>\n",
              "      <td>30</td>\n",
              "      <td>0.00</td>\n",
              "      <td>0.00</td>\n",
              "      <td>0.00</td>\n",
              "      <td>0.0</td>\n",
              "      <td>0.00</td>\n",
              "      <td>0.00</td>\n",
              "      <td>0.00</td>\n",
              "      <td>0.00</td>\n",
              "      <td>0</td>\n",
              "      <td>0</td>\n",
              "      <td>0</td>\n",
              "      <td>0</td>\n",
              "      <td>0</td>\n",
              "      <td>0</td>\n",
              "      <td>0</td>\n",
              "      <td>0</td>\n",
              "      <td>0</td>\n",
              "      <td>0</td>\n",
              "      <td>0</td>\n",
              "      <td>0</td>\n",
              "      <td>0</td>\n",
              "      <td>0</td>\n",
              "      <td>0</td>\n",
              "      <td>0</td>\n",
              "      <td>2491</td>\n",
              "      <td>0.0</td>\n",
              "      <td>0.0</td>\n",
              "      <td>0.00</td>\n",
              "      <td>0.00</td>\n",
              "      <td>270.0</td>\n",
              "    </tr>\n",
              "    <tr>\n",
              "      <th>4</th>\n",
              "      <td>7000142493</td>\n",
              "      <td>109</td>\n",
              "      <td>0.0</td>\n",
              "      <td>0.0</td>\n",
              "      <td>0.0</td>\n",
              "      <td>6/30/2014</td>\n",
              "      <td>7/31/2014</td>\n",
              "      <td>8/31/2014</td>\n",
              "      <td>9/30/2014</td>\n",
              "      <td>261.636</td>\n",
              "      <td>309.876</td>\n",
              "      <td>238.174</td>\n",
              "      <td>163.426</td>\n",
              "      <td>50.31</td>\n",
              "      <td>149.44</td>\n",
              "      <td>83.89</td>\n",
              "      <td>58.78</td>\n",
              "      <td>76.96</td>\n",
              "      <td>91.88</td>\n",
              "      <td>124.26</td>\n",
              "      <td>45.81</td>\n",
              "      <td>0.0</td>\n",
              "      <td>0.00</td>\n",
              "      <td>0.00</td>\n",
              "      <td>0.00</td>\n",
              "      <td>0.0</td>\n",
              "      <td>0.00</td>\n",
              "      <td>0.00</td>\n",
              "      <td>0.00</td>\n",
              "      <td>50.31</td>\n",
              "      <td>149.44</td>\n",
              "      <td>83.89</td>\n",
              "      <td>58.78</td>\n",
              "      <td>67.64</td>\n",
              "      <td>91.88</td>\n",
              "      <td>124.26</td>\n",
              "      <td>37.89</td>\n",
              "      <td>0.00</td>\n",
              "      <td>0.00</td>\n",
              "      <td>0.00</td>\n",
              "      <td>...</td>\n",
              "      <td>110</td>\n",
              "      <td>50</td>\n",
              "      <td>6/26/2014</td>\n",
              "      <td>7/28/2014</td>\n",
              "      <td>08-09-2014</td>\n",
              "      <td>9/28/2014</td>\n",
              "      <td>50</td>\n",
              "      <td>110</td>\n",
              "      <td>110</td>\n",
              "      <td>50</td>\n",
              "      <td>0.00</td>\n",
              "      <td>0.00</td>\n",
              "      <td>0.00</td>\n",
              "      <td>0.0</td>\n",
              "      <td>0.00</td>\n",
              "      <td>0.00</td>\n",
              "      <td>0.00</td>\n",
              "      <td>0.00</td>\n",
              "      <td>0</td>\n",
              "      <td>0</td>\n",
              "      <td>0</td>\n",
              "      <td>0</td>\n",
              "      <td>1</td>\n",
              "      <td>0</td>\n",
              "      <td>0</td>\n",
              "      <td>0</td>\n",
              "      <td>0</td>\n",
              "      <td>0</td>\n",
              "      <td>0</td>\n",
              "      <td>0</td>\n",
              "      <td>0</td>\n",
              "      <td>0</td>\n",
              "      <td>0</td>\n",
              "      <td>0</td>\n",
              "      <td>1526</td>\n",
              "      <td>0.0</td>\n",
              "      <td>0.0</td>\n",
              "      <td>0.00</td>\n",
              "      <td>0.00</td>\n",
              "      <td>273.0</td>\n",
              "    </tr>\n",
              "  </tbody>\n",
              "</table>\n",
              "<p>5 rows × 187 columns</p>\n",
              "</div>"
            ],
            "text/plain": [
              "   mobile_number  circle_id  loc_og_t2o_mou  ...  jun_vbc_3g  sep_vbc_3g avg_6_7\n",
              "0     7000842753        109             0.0  ...      101.20        3.58   307.0\n",
              "1     7001865778        109             0.0  ...        0.00        0.00   229.0\n",
              "2     7001625959        109             0.0  ...        4.17        0.00   241.5\n",
              "3     7001204172        109             0.0  ...        0.00        0.00   270.0\n",
              "4     7000142493        109             0.0  ...        0.00        0.00   273.0\n",
              "\n",
              "[5 rows x 187 columns]"
            ]
          },
          "metadata": {
            "tags": []
          },
          "execution_count": 102
        }
      ]
    },
    {
      "cell_type": "code",
      "metadata": {
        "colab": {
          "base_uri": "https://localhost:8080/"
        },
        "id": "ylsunNHtaxTB",
        "outputId": "1ac2a9e1-6467-4c47-e152-504a252f5679"
      },
      "source": [
        "df['avg_6_7'].quantile(0.7)"
      ],
      "execution_count": 103,
      "outputs": [
        {
          "output_type": "execute_result",
          "data": {
            "text/plain": [
              "368.5"
            ]
          },
          "metadata": {
            "tags": []
          },
          "execution_count": 103
        }
      ]
    },
    {
      "cell_type": "code",
      "metadata": {
        "id": "IHE_FR_9axTB"
      },
      "source": [
        "filtered_df=df[df['avg_6_7']>(df['avg_6_7'].quantile(0.7))]"
      ],
      "execution_count": 104,
      "outputs": []
    },
    {
      "cell_type": "code",
      "metadata": {
        "colab": {
          "base_uri": "https://localhost:8080/"
        },
        "id": "7aDTjRMOaxTB",
        "outputId": "c419327d-86a8-41ad-fd61-86571d786ee6"
      },
      "source": [
        "filtered_df.shape"
      ],
      "execution_count": 105,
      "outputs": [
        {
          "output_type": "execute_result",
          "data": {
            "text/plain": [
              "(29979, 187)"
            ]
          },
          "metadata": {
            "tags": []
          },
          "execution_count": 105
        }
      ]
    },
    {
      "cell_type": "code",
      "metadata": {
        "id": "taB4Oj0PaxTB"
      },
      "source": [
        "## feature creation"
      ],
      "execution_count": 106,
      "outputs": []
    },
    {
      "cell_type": "code",
      "metadata": {
        "colab": {
          "base_uri": "https://localhost:8080/"
        },
        "id": "4PXL-6sCaxTB",
        "outputId": "4821c3fe-45f1-4cea-aaaa-00ab312f9ce1"
      },
      "source": [
        "filtered_df['churn_flag'] = np.where(\n",
        "                            ((filtered_df['total_ic_mou_9'] == 0.00) | (filtered_df['total_og_mou_9'] == 0.00))\n",
        "                            & ((filtered_df['vol_2g_mb_9'] == 0.00) | (filtered_df['vol_3g_mb_9'] == 0.00))\n",
        "                            , 1, 0\n",
        "                           )"
      ],
      "execution_count": 107,
      "outputs": [
        {
          "output_type": "stream",
          "text": [
            "/usr/local/lib/python3.6/dist-packages/ipykernel_launcher.py:4: SettingWithCopyWarning: \n",
            "A value is trying to be set on a copy of a slice from a DataFrame.\n",
            "Try using .loc[row_indexer,col_indexer] = value instead\n",
            "\n",
            "See the caveats in the documentation: https://pandas.pydata.org/pandas-docs/stable/user_guide/indexing.html#returning-a-view-versus-a-copy\n",
            "  after removing the cwd from sys.path.\n"
          ],
          "name": "stderr"
        }
      ]
    },
    {
      "cell_type": "code",
      "metadata": {
        "colab": {
          "base_uri": "https://localhost:8080/"
        },
        "id": "EPg4saBuaxTB",
        "outputId": "f916bf5b-1ae0-4f45-b617-780b3eaa230d"
      },
      "source": [
        "filtered_df['churn_flag'].value_counts(normalize=True)"
      ],
      "execution_count": 108,
      "outputs": [
        {
          "output_type": "execute_result",
          "data": {
            "text/plain": [
              "0    0.898496\n",
              "1    0.101504\n",
              "Name: churn_flag, dtype: float64"
            ]
          },
          "metadata": {
            "tags": []
          },
          "execution_count": 108
        }
      ]
    },
    {
      "cell_type": "markdown",
      "metadata": {
        "id": "IRZaTgA5axTC"
      },
      "source": [
        "#drop feature _9\n",
        "https://stackoverflow.com/questions/19071199/drop-columns-whose-name-contains-a-specific-string-from-pandas-dataframe"
      ]
    },
    {
      "cell_type": "code",
      "metadata": {
        "colab": {
          "base_uri": "https://localhost:8080/"
        },
        "id": "oeUpmOtsaxTC",
        "outputId": "9bc336e1-797b-43ef-f3c0-478711fcd96a"
      },
      "source": [
        "filtered_df.drop(list(filtered_df.filter(regex = '_9')), axis = 1, inplace = True)"
      ],
      "execution_count": 109,
      "outputs": [
        {
          "output_type": "stream",
          "text": [
            "/usr/local/lib/python3.6/dist-packages/pandas/core/frame.py:4174: SettingWithCopyWarning: \n",
            "A value is trying to be set on a copy of a slice from a DataFrame\n",
            "\n",
            "See the caveats in the documentation: https://pandas.pydata.org/pandas-docs/stable/user_guide/indexing.html#returning-a-view-versus-a-copy\n",
            "  errors=errors,\n"
          ],
          "name": "stderr"
        }
      ]
    },
    {
      "cell_type": "code",
      "metadata": {
        "colab": {
          "base_uri": "https://localhost:8080/",
          "height": 243
        },
        "id": "xWnlbCktaxTC",
        "outputId": "b3561337-b3e4-4256-fdbe-1bbc4467153b"
      },
      "source": [
        "filtered_df.head()"
      ],
      "execution_count": 110,
      "outputs": [
        {
          "output_type": "execute_result",
          "data": {
            "text/html": [
              "<div>\n",
              "<style scoped>\n",
              "    .dataframe tbody tr th:only-of-type {\n",
              "        vertical-align: middle;\n",
              "    }\n",
              "\n",
              "    .dataframe tbody tr th {\n",
              "        vertical-align: top;\n",
              "    }\n",
              "\n",
              "    .dataframe thead th {\n",
              "        text-align: right;\n",
              "    }\n",
              "</style>\n",
              "<table border=\"1\" class=\"dataframe\">\n",
              "  <thead>\n",
              "    <tr style=\"text-align: right;\">\n",
              "      <th></th>\n",
              "      <th>mobile_number</th>\n",
              "      <th>circle_id</th>\n",
              "      <th>loc_og_t2o_mou</th>\n",
              "      <th>std_og_t2o_mou</th>\n",
              "      <th>loc_ic_t2o_mou</th>\n",
              "      <th>last_date_of_month_6</th>\n",
              "      <th>last_date_of_month_7</th>\n",
              "      <th>last_date_of_month_8</th>\n",
              "      <th>arpu_6</th>\n",
              "      <th>arpu_7</th>\n",
              "      <th>arpu_8</th>\n",
              "      <th>onnet_mou_6</th>\n",
              "      <th>onnet_mou_7</th>\n",
              "      <th>onnet_mou_8</th>\n",
              "      <th>offnet_mou_6</th>\n",
              "      <th>offnet_mou_7</th>\n",
              "      <th>offnet_mou_8</th>\n",
              "      <th>roam_ic_mou_6</th>\n",
              "      <th>roam_ic_mou_7</th>\n",
              "      <th>roam_ic_mou_8</th>\n",
              "      <th>roam_og_mou_6</th>\n",
              "      <th>roam_og_mou_7</th>\n",
              "      <th>roam_og_mou_8</th>\n",
              "      <th>loc_og_t2t_mou_6</th>\n",
              "      <th>loc_og_t2t_mou_7</th>\n",
              "      <th>loc_og_t2t_mou_8</th>\n",
              "      <th>loc_og_t2m_mou_6</th>\n",
              "      <th>loc_og_t2m_mou_7</th>\n",
              "      <th>loc_og_t2m_mou_8</th>\n",
              "      <th>loc_og_t2f_mou_6</th>\n",
              "      <th>loc_og_t2f_mou_7</th>\n",
              "      <th>loc_og_t2f_mou_8</th>\n",
              "      <th>loc_og_t2c_mou_6</th>\n",
              "      <th>loc_og_t2c_mou_7</th>\n",
              "      <th>loc_og_t2c_mou_8</th>\n",
              "      <th>loc_og_mou_6</th>\n",
              "      <th>loc_og_mou_7</th>\n",
              "      <th>loc_og_mou_8</th>\n",
              "      <th>std_og_t2t_mou_6</th>\n",
              "      <th>std_og_t2t_mou_7</th>\n",
              "      <th>...</th>\n",
              "      <th>total_rech_num_6</th>\n",
              "      <th>total_rech_num_7</th>\n",
              "      <th>total_rech_num_8</th>\n",
              "      <th>total_rech_amt_6</th>\n",
              "      <th>total_rech_amt_7</th>\n",
              "      <th>total_rech_amt_8</th>\n",
              "      <th>max_rech_amt_6</th>\n",
              "      <th>max_rech_amt_7</th>\n",
              "      <th>max_rech_amt_8</th>\n",
              "      <th>date_of_last_rech_6</th>\n",
              "      <th>date_of_last_rech_7</th>\n",
              "      <th>date_of_last_rech_8</th>\n",
              "      <th>last_day_rch_amt_6</th>\n",
              "      <th>last_day_rch_amt_7</th>\n",
              "      <th>last_day_rch_amt_8</th>\n",
              "      <th>vol_2g_mb_6</th>\n",
              "      <th>vol_2g_mb_7</th>\n",
              "      <th>vol_2g_mb_8</th>\n",
              "      <th>vol_3g_mb_6</th>\n",
              "      <th>vol_3g_mb_7</th>\n",
              "      <th>vol_3g_mb_8</th>\n",
              "      <th>monthly_2g_6</th>\n",
              "      <th>monthly_2g_7</th>\n",
              "      <th>monthly_2g_8</th>\n",
              "      <th>sachet_2g_6</th>\n",
              "      <th>sachet_2g_7</th>\n",
              "      <th>sachet_2g_8</th>\n",
              "      <th>monthly_3g_6</th>\n",
              "      <th>monthly_3g_7</th>\n",
              "      <th>monthly_3g_8</th>\n",
              "      <th>sachet_3g_6</th>\n",
              "      <th>sachet_3g_7</th>\n",
              "      <th>sachet_3g_8</th>\n",
              "      <th>aon</th>\n",
              "      <th>aug_vbc_3g</th>\n",
              "      <th>jul_vbc_3g</th>\n",
              "      <th>jun_vbc_3g</th>\n",
              "      <th>sep_vbc_3g</th>\n",
              "      <th>avg_6_7</th>\n",
              "      <th>churn_flag</th>\n",
              "    </tr>\n",
              "  </thead>\n",
              "  <tbody>\n",
              "    <tr>\n",
              "      <th>7</th>\n",
              "      <td>7000701601</td>\n",
              "      <td>109</td>\n",
              "      <td>0.0</td>\n",
              "      <td>0.0</td>\n",
              "      <td>0.0</td>\n",
              "      <td>6/30/2014</td>\n",
              "      <td>7/31/2014</td>\n",
              "      <td>8/31/2014</td>\n",
              "      <td>1069.180</td>\n",
              "      <td>1349.850</td>\n",
              "      <td>3171.480</td>\n",
              "      <td>57.84</td>\n",
              "      <td>54.68</td>\n",
              "      <td>52.29</td>\n",
              "      <td>453.43</td>\n",
              "      <td>567.16</td>\n",
              "      <td>325.91</td>\n",
              "      <td>16.23</td>\n",
              "      <td>33.49</td>\n",
              "      <td>31.64</td>\n",
              "      <td>23.74</td>\n",
              "      <td>12.59</td>\n",
              "      <td>38.06</td>\n",
              "      <td>51.39</td>\n",
              "      <td>31.38</td>\n",
              "      <td>40.28</td>\n",
              "      <td>308.63</td>\n",
              "      <td>447.38</td>\n",
              "      <td>162.28</td>\n",
              "      <td>62.13</td>\n",
              "      <td>55.14</td>\n",
              "      <td>53.23</td>\n",
              "      <td>0.0</td>\n",
              "      <td>0.0</td>\n",
              "      <td>0.00</td>\n",
              "      <td>422.16</td>\n",
              "      <td>533.91</td>\n",
              "      <td>255.79</td>\n",
              "      <td>4.30</td>\n",
              "      <td>23.29</td>\n",
              "      <td>...</td>\n",
              "      <td>5</td>\n",
              "      <td>5</td>\n",
              "      <td>7</td>\n",
              "      <td>1580</td>\n",
              "      <td>790</td>\n",
              "      <td>3638</td>\n",
              "      <td>1580</td>\n",
              "      <td>790</td>\n",
              "      <td>1580</td>\n",
              "      <td>6/27/2014</td>\n",
              "      <td>7/25/2014</td>\n",
              "      <td>8/26/2014</td>\n",
              "      <td>0</td>\n",
              "      <td>0</td>\n",
              "      <td>779</td>\n",
              "      <td>0.0</td>\n",
              "      <td>0.0</td>\n",
              "      <td>0.00</td>\n",
              "      <td>0.0</td>\n",
              "      <td>0.00</td>\n",
              "      <td>0.00</td>\n",
              "      <td>0</td>\n",
              "      <td>0</td>\n",
              "      <td>0</td>\n",
              "      <td>0</td>\n",
              "      <td>0</td>\n",
              "      <td>0</td>\n",
              "      <td>0</td>\n",
              "      <td>0</td>\n",
              "      <td>0</td>\n",
              "      <td>0</td>\n",
              "      <td>0</td>\n",
              "      <td>0</td>\n",
              "      <td>802</td>\n",
              "      <td>57.74</td>\n",
              "      <td>19.38</td>\n",
              "      <td>18.74</td>\n",
              "      <td>0.0</td>\n",
              "      <td>1185.0</td>\n",
              "      <td>1</td>\n",
              "    </tr>\n",
              "    <tr>\n",
              "      <th>8</th>\n",
              "      <td>7001524846</td>\n",
              "      <td>109</td>\n",
              "      <td>0.0</td>\n",
              "      <td>0.0</td>\n",
              "      <td>0.0</td>\n",
              "      <td>6/30/2014</td>\n",
              "      <td>7/31/2014</td>\n",
              "      <td>8/31/2014</td>\n",
              "      <td>378.721</td>\n",
              "      <td>492.223</td>\n",
              "      <td>137.362</td>\n",
              "      <td>413.69</td>\n",
              "      <td>351.03</td>\n",
              "      <td>35.08</td>\n",
              "      <td>94.66</td>\n",
              "      <td>80.63</td>\n",
              "      <td>136.48</td>\n",
              "      <td>0.00</td>\n",
              "      <td>0.00</td>\n",
              "      <td>0.00</td>\n",
              "      <td>0.00</td>\n",
              "      <td>0.00</td>\n",
              "      <td>0.00</td>\n",
              "      <td>297.13</td>\n",
              "      <td>217.59</td>\n",
              "      <td>12.49</td>\n",
              "      <td>80.96</td>\n",
              "      <td>70.58</td>\n",
              "      <td>50.54</td>\n",
              "      <td>0.00</td>\n",
              "      <td>0.00</td>\n",
              "      <td>0.00</td>\n",
              "      <td>0.0</td>\n",
              "      <td>0.0</td>\n",
              "      <td>7.15</td>\n",
              "      <td>378.09</td>\n",
              "      <td>288.18</td>\n",
              "      <td>63.04</td>\n",
              "      <td>116.56</td>\n",
              "      <td>133.43</td>\n",
              "      <td>...</td>\n",
              "      <td>19</td>\n",
              "      <td>21</td>\n",
              "      <td>14</td>\n",
              "      <td>437</td>\n",
              "      <td>601</td>\n",
              "      <td>120</td>\n",
              "      <td>90</td>\n",
              "      <td>154</td>\n",
              "      <td>30</td>\n",
              "      <td>6/25/2014</td>\n",
              "      <td>7/31/2014</td>\n",
              "      <td>8/30/2014</td>\n",
              "      <td>50</td>\n",
              "      <td>0</td>\n",
              "      <td>10</td>\n",
              "      <td>0.0</td>\n",
              "      <td>356.0</td>\n",
              "      <td>0.03</td>\n",
              "      <td>0.0</td>\n",
              "      <td>750.95</td>\n",
              "      <td>11.94</td>\n",
              "      <td>0</td>\n",
              "      <td>1</td>\n",
              "      <td>0</td>\n",
              "      <td>0</td>\n",
              "      <td>1</td>\n",
              "      <td>3</td>\n",
              "      <td>0</td>\n",
              "      <td>0</td>\n",
              "      <td>0</td>\n",
              "      <td>0</td>\n",
              "      <td>0</td>\n",
              "      <td>0</td>\n",
              "      <td>315</td>\n",
              "      <td>21.03</td>\n",
              "      <td>910.65</td>\n",
              "      <td>122.16</td>\n",
              "      <td>0.0</td>\n",
              "      <td>519.0</td>\n",
              "      <td>0</td>\n",
              "    </tr>\n",
              "    <tr>\n",
              "      <th>13</th>\n",
              "      <td>7002191713</td>\n",
              "      <td>109</td>\n",
              "      <td>0.0</td>\n",
              "      <td>0.0</td>\n",
              "      <td>0.0</td>\n",
              "      <td>6/30/2014</td>\n",
              "      <td>7/31/2014</td>\n",
              "      <td>8/31/2014</td>\n",
              "      <td>492.846</td>\n",
              "      <td>205.671</td>\n",
              "      <td>593.260</td>\n",
              "      <td>501.76</td>\n",
              "      <td>108.39</td>\n",
              "      <td>534.24</td>\n",
              "      <td>413.31</td>\n",
              "      <td>119.28</td>\n",
              "      <td>482.46</td>\n",
              "      <td>23.53</td>\n",
              "      <td>144.24</td>\n",
              "      <td>72.11</td>\n",
              "      <td>7.98</td>\n",
              "      <td>35.26</td>\n",
              "      <td>1.44</td>\n",
              "      <td>49.63</td>\n",
              "      <td>6.19</td>\n",
              "      <td>36.01</td>\n",
              "      <td>151.13</td>\n",
              "      <td>47.28</td>\n",
              "      <td>294.46</td>\n",
              "      <td>4.54</td>\n",
              "      <td>0.00</td>\n",
              "      <td>23.51</td>\n",
              "      <td>0.0</td>\n",
              "      <td>0.0</td>\n",
              "      <td>0.49</td>\n",
              "      <td>205.31</td>\n",
              "      <td>53.48</td>\n",
              "      <td>353.99</td>\n",
              "      <td>446.41</td>\n",
              "      <td>85.98</td>\n",
              "      <td>...</td>\n",
              "      <td>6</td>\n",
              "      <td>4</td>\n",
              "      <td>11</td>\n",
              "      <td>507</td>\n",
              "      <td>253</td>\n",
              "      <td>717</td>\n",
              "      <td>110</td>\n",
              "      <td>110</td>\n",
              "      <td>130</td>\n",
              "      <td>6/20/2014</td>\n",
              "      <td>7/22/2014</td>\n",
              "      <td>8/30/2014</td>\n",
              "      <td>110</td>\n",
              "      <td>50</td>\n",
              "      <td>0</td>\n",
              "      <td>0.0</td>\n",
              "      <td>0.0</td>\n",
              "      <td>0.02</td>\n",
              "      <td>0.0</td>\n",
              "      <td>0.00</td>\n",
              "      <td>0.00</td>\n",
              "      <td>0</td>\n",
              "      <td>0</td>\n",
              "      <td>0</td>\n",
              "      <td>0</td>\n",
              "      <td>0</td>\n",
              "      <td>3</td>\n",
              "      <td>0</td>\n",
              "      <td>0</td>\n",
              "      <td>0</td>\n",
              "      <td>0</td>\n",
              "      <td>0</td>\n",
              "      <td>0</td>\n",
              "      <td>2607</td>\n",
              "      <td>0.00</td>\n",
              "      <td>0.00</td>\n",
              "      <td>0.00</td>\n",
              "      <td>0.0</td>\n",
              "      <td>380.0</td>\n",
              "      <td>0</td>\n",
              "    </tr>\n",
              "    <tr>\n",
              "      <th>16</th>\n",
              "      <td>7000875565</td>\n",
              "      <td>109</td>\n",
              "      <td>0.0</td>\n",
              "      <td>0.0</td>\n",
              "      <td>0.0</td>\n",
              "      <td>6/30/2014</td>\n",
              "      <td>7/31/2014</td>\n",
              "      <td>8/31/2014</td>\n",
              "      <td>430.975</td>\n",
              "      <td>299.869</td>\n",
              "      <td>187.894</td>\n",
              "      <td>50.51</td>\n",
              "      <td>74.01</td>\n",
              "      <td>70.61</td>\n",
              "      <td>296.29</td>\n",
              "      <td>229.74</td>\n",
              "      <td>162.76</td>\n",
              "      <td>0.00</td>\n",
              "      <td>2.83</td>\n",
              "      <td>0.00</td>\n",
              "      <td>0.00</td>\n",
              "      <td>17.74</td>\n",
              "      <td>0.00</td>\n",
              "      <td>42.61</td>\n",
              "      <td>65.16</td>\n",
              "      <td>67.38</td>\n",
              "      <td>273.29</td>\n",
              "      <td>145.99</td>\n",
              "      <td>128.28</td>\n",
              "      <td>0.00</td>\n",
              "      <td>4.48</td>\n",
              "      <td>10.26</td>\n",
              "      <td>0.0</td>\n",
              "      <td>0.0</td>\n",
              "      <td>0.00</td>\n",
              "      <td>315.91</td>\n",
              "      <td>215.64</td>\n",
              "      <td>205.93</td>\n",
              "      <td>7.89</td>\n",
              "      <td>2.58</td>\n",
              "      <td>...</td>\n",
              "      <td>10</td>\n",
              "      <td>6</td>\n",
              "      <td>2</td>\n",
              "      <td>570</td>\n",
              "      <td>348</td>\n",
              "      <td>160</td>\n",
              "      <td>110</td>\n",
              "      <td>110</td>\n",
              "      <td>130</td>\n",
              "      <td>6/30/2014</td>\n",
              "      <td>7/31/2014</td>\n",
              "      <td>8/14/2014</td>\n",
              "      <td>100</td>\n",
              "      <td>100</td>\n",
              "      <td>130</td>\n",
              "      <td>0.0</td>\n",
              "      <td>0.0</td>\n",
              "      <td>0.00</td>\n",
              "      <td>0.0</td>\n",
              "      <td>0.00</td>\n",
              "      <td>0.00</td>\n",
              "      <td>0</td>\n",
              "      <td>0</td>\n",
              "      <td>0</td>\n",
              "      <td>0</td>\n",
              "      <td>0</td>\n",
              "      <td>0</td>\n",
              "      <td>0</td>\n",
              "      <td>0</td>\n",
              "      <td>0</td>\n",
              "      <td>0</td>\n",
              "      <td>0</td>\n",
              "      <td>0</td>\n",
              "      <td>511</td>\n",
              "      <td>0.00</td>\n",
              "      <td>2.45</td>\n",
              "      <td>21.89</td>\n",
              "      <td>0.0</td>\n",
              "      <td>459.0</td>\n",
              "      <td>0</td>\n",
              "    </tr>\n",
              "    <tr>\n",
              "      <th>17</th>\n",
              "      <td>7000187447</td>\n",
              "      <td>109</td>\n",
              "      <td>0.0</td>\n",
              "      <td>0.0</td>\n",
              "      <td>0.0</td>\n",
              "      <td>6/30/2014</td>\n",
              "      <td>7/31/2014</td>\n",
              "      <td>8/31/2014</td>\n",
              "      <td>690.008</td>\n",
              "      <td>18.980</td>\n",
              "      <td>25.499</td>\n",
              "      <td>1185.91</td>\n",
              "      <td>9.28</td>\n",
              "      <td>7.79</td>\n",
              "      <td>61.64</td>\n",
              "      <td>0.00</td>\n",
              "      <td>5.54</td>\n",
              "      <td>0.00</td>\n",
              "      <td>4.76</td>\n",
              "      <td>4.81</td>\n",
              "      <td>0.00</td>\n",
              "      <td>8.46</td>\n",
              "      <td>13.34</td>\n",
              "      <td>38.99</td>\n",
              "      <td>0.00</td>\n",
              "      <td>0.00</td>\n",
              "      <td>58.54</td>\n",
              "      <td>0.00</td>\n",
              "      <td>0.00</td>\n",
              "      <td>0.00</td>\n",
              "      <td>0.00</td>\n",
              "      <td>0.00</td>\n",
              "      <td>0.0</td>\n",
              "      <td>0.0</td>\n",
              "      <td>0.00</td>\n",
              "      <td>97.54</td>\n",
              "      <td>0.00</td>\n",
              "      <td>0.00</td>\n",
              "      <td>1146.91</td>\n",
              "      <td>0.81</td>\n",
              "      <td>...</td>\n",
              "      <td>19</td>\n",
              "      <td>2</td>\n",
              "      <td>4</td>\n",
              "      <td>816</td>\n",
              "      <td>0</td>\n",
              "      <td>30</td>\n",
              "      <td>110</td>\n",
              "      <td>0</td>\n",
              "      <td>30</td>\n",
              "      <td>6/30/2014</td>\n",
              "      <td>7/30/2014</td>\n",
              "      <td>8/25/2014</td>\n",
              "      <td>30</td>\n",
              "      <td>0</td>\n",
              "      <td>0</td>\n",
              "      <td>0.0</td>\n",
              "      <td>0.0</td>\n",
              "      <td>0.00</td>\n",
              "      <td>0.0</td>\n",
              "      <td>0.00</td>\n",
              "      <td>0.00</td>\n",
              "      <td>0</td>\n",
              "      <td>0</td>\n",
              "      <td>0</td>\n",
              "      <td>0</td>\n",
              "      <td>0</td>\n",
              "      <td>0</td>\n",
              "      <td>0</td>\n",
              "      <td>0</td>\n",
              "      <td>0</td>\n",
              "      <td>0</td>\n",
              "      <td>0</td>\n",
              "      <td>0</td>\n",
              "      <td>667</td>\n",
              "      <td>0.00</td>\n",
              "      <td>0.00</td>\n",
              "      <td>0.00</td>\n",
              "      <td>0.0</td>\n",
              "      <td>408.0</td>\n",
              "      <td>0</td>\n",
              "    </tr>\n",
              "  </tbody>\n",
              "</table>\n",
              "<p>5 rows × 144 columns</p>\n",
              "</div>"
            ],
            "text/plain": [
              "    mobile_number  circle_id  loc_og_t2o_mou  ...  sep_vbc_3g  avg_6_7 churn_flag\n",
              "7      7000701601        109             0.0  ...         0.0   1185.0          1\n",
              "8      7001524846        109             0.0  ...         0.0    519.0          0\n",
              "13     7002191713        109             0.0  ...         0.0    380.0          0\n",
              "16     7000875565        109             0.0  ...         0.0    459.0          0\n",
              "17     7000187447        109             0.0  ...         0.0    408.0          0\n",
              "\n",
              "[5 rows x 144 columns]"
            ]
          },
          "metadata": {
            "tags": []
          },
          "execution_count": 110
        }
      ]
    },
    {
      "cell_type": "code",
      "metadata": {
        "id": "B6mhtAcdaxTC"
      },
      "source": [
        "import matplotlib.pyplot as plt\n",
        "%matplotlib inline"
      ],
      "execution_count": 111,
      "outputs": []
    },
    {
      "cell_type": "code",
      "metadata": {
        "colab": {
          "base_uri": "https://localhost:8080/",
          "height": 262
        },
        "id": "n7bbsb_raxTC",
        "outputId": "15afca64-7e78-494c-bfee-054aa2beea8a"
      },
      "source": [
        "filtered_df['churn_flag'].value_counts(normalize=True).plot(kind='bar');"
      ],
      "execution_count": 112,
      "outputs": [
        {
          "output_type": "display_data",
          "data": {
            "image/png": "[encoded data removed]",
            "text/plain": [
              "<Figure size 432x288 with 1 Axes>"
            ]
          },
          "metadata": {
            "tags": [],
            "needs_background": "light"
          }
        }
      ]
    },
    {
      "cell_type": "code",
      "metadata": {
        "colab": {
          "base_uri": "https://localhost:8080/"
        },
        "id": "dt6elw3SaxTD",
        "outputId": "ccd20eb4-a2e5-42d0-f31d-c0d73708bb73"
      },
      "source": [
        "filtered_df.columns"
      ],
      "execution_count": 113,
      "outputs": [
        {
          "output_type": "execute_result",
          "data": {
            "text/plain": [
              "Index(['mobile_number', 'circle_id', 'loc_og_t2o_mou', 'std_og_t2o_mou',\n",
              "       'loc_ic_t2o_mou', 'last_date_of_month_6', 'last_date_of_month_7',\n",
              "       'last_date_of_month_8', 'arpu_6', 'arpu_7',\n",
              "       ...\n",
              "       'sachet_3g_6', 'sachet_3g_7', 'sachet_3g_8', 'aon', 'aug_vbc_3g',\n",
              "       'jul_vbc_3g', 'jun_vbc_3g', 'sep_vbc_3g', 'avg_6_7', 'churn_flag'],\n",
              "      dtype='object', length=144)"
            ]
          },
          "metadata": {
            "tags": []
          },
          "execution_count": 113
        }
      ]
    },
    {
      "cell_type": "code",
      "metadata": {
        "colab": {
          "base_uri": "https://localhost:8080/"
        },
        "id": "yzp2ePgyaxTE",
        "outputId": "33a25e3b-9df1-40e1-97bd-497cee5622e8"
      },
      "source": [
        "label=filtered_df['churn_flag']\n",
        "filtered_df.drop('churn_flag',axis=1,inplace=True)"
      ],
      "execution_count": 114,
      "outputs": [
        {
          "output_type": "stream",
          "text": [
            "/usr/local/lib/python3.6/dist-packages/pandas/core/frame.py:4174: SettingWithCopyWarning: \n",
            "A value is trying to be set on a copy of a slice from a DataFrame\n",
            "\n",
            "See the caveats in the documentation: https://pandas.pydata.org/pandas-docs/stable/user_guide/indexing.html#returning-a-view-versus-a-copy\n",
            "  errors=errors,\n"
          ],
          "name": "stderr"
        }
      ]
    },
    {
      "cell_type": "code",
      "metadata": {
        "colab": {
          "base_uri": "https://localhost:8080/"
        },
        "id": "zyj6E2DAhEMs",
        "outputId": "0c3619c9-f3d0-4490-8790-64191b09b00b"
      },
      "source": [
        "filtered_df.dtypes"
      ],
      "execution_count": 115,
      "outputs": [
        {
          "output_type": "execute_result",
          "data": {
            "text/plain": [
              "mobile_number       int64\n",
              "circle_id           int64\n",
              "loc_og_t2o_mou    float64\n",
              "std_og_t2o_mou    float64\n",
              "loc_ic_t2o_mou    float64\n",
              "                   ...   \n",
              "aug_vbc_3g        float64\n",
              "jul_vbc_3g        float64\n",
              "jun_vbc_3g        float64\n",
              "sep_vbc_3g        float64\n",
              "avg_6_7           float64\n",
              "Length: 143, dtype: object"
            ]
          },
          "metadata": {
            "tags": []
          },
          "execution_count": 115
        }
      ]
    },
    {
      "cell_type": "code",
      "metadata": {
        "colab": {
          "base_uri": "https://localhost:8080/"
        },
        "id": "3yCPIgqUiDvj",
        "outputId": "e4d28bc4-a9af-4f53-8bf5-a56471ab9974"
      },
      "source": [
        "filtered_df.drop(columns=['last_date_of_month_6','last_date_of_month_7','last_date_of_month_8','date_of_last_rech_6','date_of_last_rech_7','date_of_last_rech_8'],axis=1,inplace=True)"
      ],
      "execution_count": 116,
      "outputs": [
        {
          "output_type": "stream",
          "text": [
            "/usr/local/lib/python3.6/dist-packages/pandas/core/frame.py:4174: SettingWithCopyWarning: \n",
            "A value is trying to be set on a copy of a slice from a DataFrame\n",
            "\n",
            "See the caveats in the documentation: https://pandas.pydata.org/pandas-docs/stable/user_guide/indexing.html#returning-a-view-versus-a-copy\n",
            "  errors=errors,\n"
          ],
          "name": "stderr"
        }
      ]
    },
    {
      "cell_type": "code",
      "metadata": {
        "colab": {
          "base_uri": "https://localhost:8080/"
        },
        "id": "5JO21hfcp6VV",
        "outputId": "4c0f0e8b-1010-434c-e315-1884e6e91ad7"
      },
      "source": [
        "filtered_df.isnull().sum()"
      ],
      "execution_count": 117,
      "outputs": [
        {
          "output_type": "execute_result",
          "data": {
            "text/plain": [
              "mobile_number       0\n",
              "circle_id           0\n",
              "loc_og_t2o_mou    114\n",
              "std_og_t2o_mou    114\n",
              "loc_ic_t2o_mou    114\n",
              "                 ... \n",
              "aug_vbc_3g          0\n",
              "jul_vbc_3g          0\n",
              "jun_vbc_3g          0\n",
              "sep_vbc_3g          0\n",
              "avg_6_7             0\n",
              "Length: 137, dtype: int64"
            ]
          },
          "metadata": {
            "tags": []
          },
          "execution_count": 117
        }
      ]
    },
    {
      "cell_type": "code",
      "metadata": {
        "colab": {
          "base_uri": "https://localhost:8080/"
        },
        "id": "R34hdUQnsiKG",
        "outputId": "36defd5f-9689-48f7-cde3-a8520e6aa257"
      },
      "source": [
        "filtered_df.fillna(filtered_df.median(), inplace=True)"
      ],
      "execution_count": 118,
      "outputs": [
        {
          "output_type": "stream",
          "text": [
            "/usr/local/lib/python3.6/dist-packages/pandas/core/series.py:4536: SettingWithCopyWarning: \n",
            "A value is trying to be set on a copy of a slice from a DataFrame\n",
            "\n",
            "See the caveats in the documentation: https://pandas.pydata.org/pandas-docs/stable/user_guide/indexing.html#returning-a-view-versus-a-copy\n",
            "  downcast=downcast,\n"
          ],
          "name": "stderr"
        }
      ]
    },
    {
      "cell_type": "code",
      "metadata": {
        "colab": {
          "base_uri": "https://localhost:8080/",
          "height": 266
        },
        "id": "xauAbFWYtcqh",
        "outputId": "a3cbae7a-07af-4a55-ad1b-8013213b9c94"
      },
      "source": [
        "(filtered_df.isnull().sum()).plot()\r\n",
        "plt.show()"
      ],
      "execution_count": 119,
      "outputs": [
        {
          "output_type": "display_data",
          "data": {
            "image/png": "[encoded data removed]",
            "text/plain": [
              "<Figure size 432x288 with 1 Axes>"
            ]
          },
          "metadata": {
            "tags": [],
            "needs_background": "light"
          }
        }
      ]
    },
    {
      "cell_type": "code",
      "metadata": {
        "colab": {
          "base_uri": "https://localhost:8080/"
        },
        "id": "E2txCmGMgqp-",
        "outputId": "3eec13b2-b9bf-414a-f2cf-a10f7485f4f4"
      },
      "source": [
        "# Data-preprocessing: Standardizing the data\r\n",
        "\r\n",
        "from sklearn.preprocessing import StandardScaler\r\n",
        "standardized_data = StandardScaler().fit_transform(filtered_df)\r\n",
        "print(standardized_data.shape)\r\n"
      ],
      "execution_count": 120,
      "outputs": [
        {
          "output_type": "stream",
          "text": [
            "(29979, 137)\n"
          ],
          "name": "stdout"
        }
      ]
    },
    {
      "cell_type": "code",
      "metadata": {
        "id": "u1_hwKfMgta5"
      },
      "source": [
        "from sklearn import decomposition\r\n",
        "pca=decomposition.PCA()"
      ],
      "execution_count": 121,
      "outputs": []
    },
    {
      "cell_type": "code",
      "metadata": {
        "colab": {
          "base_uri": "https://localhost:8080/",
          "height": 280
        },
        "id": "2zD9NsjCaxTE",
        "outputId": "068118d3-4d30-4c46-9001-ae14cfb60882"
      },
      "source": [
        "# PCA for dimensionality redcution (non-visualization)\n",
        "\n",
        "pca.n_components = 137\n",
        "pca_data = pca.fit_transform(standardized_data)\n",
        "\n",
        "percentage_var_explained = pca.explained_variance_ / np.sum(pca.explained_variance_);\n",
        "\n",
        "cum_var_explained = np.cumsum(percentage_var_explained)\n",
        "\n",
        "# Plot the PCA spectrum\n",
        "plt.figure(1, figsize=(6, 4))\n",
        "\n",
        "plt.clf()\n",
        "plt.plot(cum_var_explained, linewidth=2)\n",
        "plt.axis('tight')\n",
        "plt.grid()\n",
        "plt.xlabel('n_components')\n",
        "plt.ylabel('Cumulative_explained_variance')\n",
        "plt.show()\n",
        "\n"
      ],
      "execution_count": 122,
      "outputs": [
        {
          "output_type": "display_data",
          "data": {
            "image/png": "[encoded data removed]",
            "text/plain": [
              "<Figure size 432x288 with 1 Axes>"
            ]
          },
          "metadata": {
            "tags": [],
            "needs_background": "light"
          }
        }
      ]
    },
    {
      "cell_type": "code",
      "metadata": {
        "colab": {
          "base_uri": "https://localhost:8080/"
        },
        "id": "JD8KXCa_-Rhe",
        "outputId": "8a0ecdf5-2644-47f2-947b-2ab3cdd517ec"
      },
      "source": [
        "# configuring the parameteres\r\n",
        "# the number of components = 70\r\n",
        "pca.n_components = 70\r\n",
        "pca_data = pca.fit_transform(standardized_data)\r\n",
        "\r\n",
        "# pca_reduced will contain the 70-d projects of simple data\r\n",
        "print(\"shape of pca_reduced.shape = \", pca_data.shape)\r\n",
        "\r\n"
      ],
      "execution_count": 123,
      "outputs": [
        {
          "output_type": "stream",
          "text": [
            "shape of pca_reduced.shape =  (29979, 70)\n"
          ],
          "name": "stdout"
        }
      ]
    },
    {
      "cell_type": "code",
      "metadata": {
        "id": "ucgeYiq7jQTo"
      },
      "source": [
        "# attaching the label for each 2-d data point \r\n",
        "pca_data = np.vstack((pca_data.T, label)).T\r\n",
        "\r\n",
        "# creating a new data fram which help us in ploting the result data\r\n",
        "pca_df = pd.DataFrame(data=pca_data)\r\n"
      ],
      "execution_count": 124,
      "outputs": []
    },
    {
      "cell_type": "code",
      "metadata": {
        "colab": {
          "base_uri": "https://localhost:8080/",
          "height": 214
        },
        "id": "IcjsOCOoA9xT",
        "outputId": "0df3e0db-2826-4bb3-ddab-bec8a5e5483b"
      },
      "source": [
        "pca_df.head()"
      ],
      "execution_count": 125,
      "outputs": [
        {
          "output_type": "execute_result",
          "data": {
            "text/html": [
              "<div>\n",
              "<style scoped>\n",
              "    .dataframe tbody tr th:only-of-type {\n",
              "        vertical-align: middle;\n",
              "    }\n",
              "\n",
              "    .dataframe tbody tr th {\n",
              "        vertical-align: top;\n",
              "    }\n",
              "\n",
              "    .dataframe thead th {\n",
              "        text-align: right;\n",
              "    }\n",
              "</style>\n",
              "<table border=\"1\" class=\"dataframe\">\n",
              "  <thead>\n",
              "    <tr style=\"text-align: right;\">\n",
              "      <th></th>\n",
              "      <th>0</th>\n",
              "      <th>1</th>\n",
              "      <th>2</th>\n",
              "      <th>3</th>\n",
              "      <th>4</th>\n",
              "      <th>5</th>\n",
              "      <th>6</th>\n",
              "      <th>7</th>\n",
              "      <th>8</th>\n",
              "      <th>9</th>\n",
              "      <th>10</th>\n",
              "      <th>11</th>\n",
              "      <th>12</th>\n",
              "      <th>13</th>\n",
              "      <th>14</th>\n",
              "      <th>15</th>\n",
              "      <th>16</th>\n",
              "      <th>17</th>\n",
              "      <th>18</th>\n",
              "      <th>19</th>\n",
              "      <th>20</th>\n",
              "      <th>21</th>\n",
              "      <th>22</th>\n",
              "      <th>23</th>\n",
              "      <th>24</th>\n",
              "      <th>25</th>\n",
              "      <th>26</th>\n",
              "      <th>27</th>\n",
              "      <th>28</th>\n",
              "      <th>29</th>\n",
              "      <th>30</th>\n",
              "      <th>31</th>\n",
              "      <th>32</th>\n",
              "      <th>33</th>\n",
              "      <th>34</th>\n",
              "      <th>35</th>\n",
              "      <th>36</th>\n",
              "      <th>37</th>\n",
              "      <th>38</th>\n",
              "      <th>39</th>\n",
              "      <th>40</th>\n",
              "      <th>41</th>\n",
              "      <th>42</th>\n",
              "      <th>43</th>\n",
              "      <th>44</th>\n",
              "      <th>45</th>\n",
              "      <th>46</th>\n",
              "      <th>47</th>\n",
              "      <th>48</th>\n",
              "      <th>49</th>\n",
              "      <th>50</th>\n",
              "      <th>51</th>\n",
              "      <th>52</th>\n",
              "      <th>53</th>\n",
              "      <th>54</th>\n",
              "      <th>55</th>\n",
              "      <th>56</th>\n",
              "      <th>57</th>\n",
              "      <th>58</th>\n",
              "      <th>59</th>\n",
              "      <th>60</th>\n",
              "      <th>61</th>\n",
              "      <th>62</th>\n",
              "      <th>63</th>\n",
              "      <th>64</th>\n",
              "      <th>65</th>\n",
              "      <th>66</th>\n",
              "      <th>67</th>\n",
              "      <th>68</th>\n",
              "      <th>69</th>\n",
              "      <th>70</th>\n",
              "    </tr>\n",
              "  </thead>\n",
              "  <tbody>\n",
              "    <tr>\n",
              "      <th>0</th>\n",
              "      <td>7.068137</td>\n",
              "      <td>-1.360029</td>\n",
              "      <td>5.431321</td>\n",
              "      <td>1.807314</td>\n",
              "      <td>4.610562</td>\n",
              "      <td>4.043944</td>\n",
              "      <td>0.519147</td>\n",
              "      <td>-1.097191</td>\n",
              "      <td>4.072578</td>\n",
              "      <td>-1.380370</td>\n",
              "      <td>0.428557</td>\n",
              "      <td>-0.789381</td>\n",
              "      <td>-0.880516</td>\n",
              "      <td>0.340009</td>\n",
              "      <td>0.758782</td>\n",
              "      <td>1.284245</td>\n",
              "      <td>-2.895534</td>\n",
              "      <td>1.428722</td>\n",
              "      <td>-1.698511</td>\n",
              "      <td>-0.737749</td>\n",
              "      <td>-1.740846</td>\n",
              "      <td>0.574700</td>\n",
              "      <td>4.510437</td>\n",
              "      <td>0.033208</td>\n",
              "      <td>-0.031481</td>\n",
              "      <td>-3.252396</td>\n",
              "      <td>-0.597207</td>\n",
              "      <td>-2.332005</td>\n",
              "      <td>-0.999943</td>\n",
              "      <td>-0.438342</td>\n",
              "      <td>-2.244389</td>\n",
              "      <td>-0.087125</td>\n",
              "      <td>1.610364</td>\n",
              "      <td>1.376582</td>\n",
              "      <td>1.868809</td>\n",
              "      <td>1.304467</td>\n",
              "      <td>1.075275</td>\n",
              "      <td>2.336284</td>\n",
              "      <td>1.324707</td>\n",
              "      <td>-0.757784</td>\n",
              "      <td>-0.347112</td>\n",
              "      <td>1.286150</td>\n",
              "      <td>-1.436633</td>\n",
              "      <td>-0.408632</td>\n",
              "      <td>-0.803958</td>\n",
              "      <td>-0.557000</td>\n",
              "      <td>-0.815106</td>\n",
              "      <td>-0.271754</td>\n",
              "      <td>-1.819438</td>\n",
              "      <td>0.891933</td>\n",
              "      <td>0.824047</td>\n",
              "      <td>-0.036834</td>\n",
              "      <td>-0.171341</td>\n",
              "      <td>0.356342</td>\n",
              "      <td>0.699311</td>\n",
              "      <td>0.250319</td>\n",
              "      <td>0.341554</td>\n",
              "      <td>-2.024172</td>\n",
              "      <td>1.108852</td>\n",
              "      <td>-3.844382</td>\n",
              "      <td>1.008021</td>\n",
              "      <td>0.163504</td>\n",
              "      <td>0.635314</td>\n",
              "      <td>0.395200</td>\n",
              "      <td>-0.299683</td>\n",
              "      <td>0.086405</td>\n",
              "      <td>1.153926</td>\n",
              "      <td>-0.730927</td>\n",
              "      <td>0.540556</td>\n",
              "      <td>0.648485</td>\n",
              "      <td>1.0</td>\n",
              "    </tr>\n",
              "    <tr>\n",
              "      <th>1</th>\n",
              "      <td>-2.953374</td>\n",
              "      <td>-0.539958</td>\n",
              "      <td>0.056788</td>\n",
              "      <td>-0.912018</td>\n",
              "      <td>-1.379034</td>\n",
              "      <td>-0.438061</td>\n",
              "      <td>0.405783</td>\n",
              "      <td>1.206322</td>\n",
              "      <td>0.455533</td>\n",
              "      <td>0.557651</td>\n",
              "      <td>-0.413651</td>\n",
              "      <td>0.604824</td>\n",
              "      <td>0.145099</td>\n",
              "      <td>-0.048964</td>\n",
              "      <td>-0.074653</td>\n",
              "      <td>0.067746</td>\n",
              "      <td>1.039189</td>\n",
              "      <td>-0.003575</td>\n",
              "      <td>0.190260</td>\n",
              "      <td>-0.076375</td>\n",
              "      <td>0.019070</td>\n",
              "      <td>-0.203658</td>\n",
              "      <td>-0.712243</td>\n",
              "      <td>-0.227198</td>\n",
              "      <td>-0.448648</td>\n",
              "      <td>-0.308870</td>\n",
              "      <td>-0.851654</td>\n",
              "      <td>0.032299</td>\n",
              "      <td>-0.011318</td>\n",
              "      <td>-0.251770</td>\n",
              "      <td>-0.982074</td>\n",
              "      <td>-0.447741</td>\n",
              "      <td>-0.205503</td>\n",
              "      <td>-0.025122</td>\n",
              "      <td>-0.071325</td>\n",
              "      <td>-0.281834</td>\n",
              "      <td>-0.518159</td>\n",
              "      <td>0.087033</td>\n",
              "      <td>0.194642</td>\n",
              "      <td>-0.013286</td>\n",
              "      <td>-0.298205</td>\n",
              "      <td>0.826065</td>\n",
              "      <td>0.828113</td>\n",
              "      <td>-0.586299</td>\n",
              "      <td>0.287069</td>\n",
              "      <td>0.624387</td>\n",
              "      <td>-0.831061</td>\n",
              "      <td>-0.117790</td>\n",
              "      <td>-0.178210</td>\n",
              "      <td>-0.317207</td>\n",
              "      <td>1.515402</td>\n",
              "      <td>0.109216</td>\n",
              "      <td>1.249307</td>\n",
              "      <td>1.575516</td>\n",
              "      <td>-0.704680</td>\n",
              "      <td>-0.231888</td>\n",
              "      <td>-0.179941</td>\n",
              "      <td>-0.082291</td>\n",
              "      <td>-0.030850</td>\n",
              "      <td>0.138894</td>\n",
              "      <td>-0.248021</td>\n",
              "      <td>-0.160893</td>\n",
              "      <td>0.202305</td>\n",
              "      <td>0.626443</td>\n",
              "      <td>0.232223</td>\n",
              "      <td>-0.550907</td>\n",
              "      <td>0.008980</td>\n",
              "      <td>-0.507542</td>\n",
              "      <td>-0.122259</td>\n",
              "      <td>-0.040235</td>\n",
              "      <td>0.0</td>\n",
              "    </tr>\n",
              "    <tr>\n",
              "      <th>2</th>\n",
              "      <td>0.710301</td>\n",
              "      <td>-0.043347</td>\n",
              "      <td>-1.244452</td>\n",
              "      <td>5.513695</td>\n",
              "      <td>-0.039561</td>\n",
              "      <td>1.242561</td>\n",
              "      <td>1.699757</td>\n",
              "      <td>0.787658</td>\n",
              "      <td>-0.444346</td>\n",
              "      <td>1.029410</td>\n",
              "      <td>-0.868498</td>\n",
              "      <td>-1.847369</td>\n",
              "      <td>2.148683</td>\n",
              "      <td>3.699832</td>\n",
              "      <td>4.786076</td>\n",
              "      <td>-0.508417</td>\n",
              "      <td>-0.543195</td>\n",
              "      <td>-0.211933</td>\n",
              "      <td>-0.575528</td>\n",
              "      <td>-0.600865</td>\n",
              "      <td>-0.181994</td>\n",
              "      <td>-0.531750</td>\n",
              "      <td>2.302494</td>\n",
              "      <td>-0.925966</td>\n",
              "      <td>0.769685</td>\n",
              "      <td>1.051984</td>\n",
              "      <td>0.304377</td>\n",
              "      <td>1.471721</td>\n",
              "      <td>1.651870</td>\n",
              "      <td>1.990325</td>\n",
              "      <td>0.505714</td>\n",
              "      <td>-0.292967</td>\n",
              "      <td>-0.898864</td>\n",
              "      <td>0.307437</td>\n",
              "      <td>-1.035746</td>\n",
              "      <td>-0.198979</td>\n",
              "      <td>-0.508282</td>\n",
              "      <td>-0.756360</td>\n",
              "      <td>-0.080314</td>\n",
              "      <td>0.588789</td>\n",
              "      <td>-0.918417</td>\n",
              "      <td>-0.306600</td>\n",
              "      <td>-0.273329</td>\n",
              "      <td>-0.963849</td>\n",
              "      <td>-1.755661</td>\n",
              "      <td>0.054114</td>\n",
              "      <td>-0.955728</td>\n",
              "      <td>-0.073161</td>\n",
              "      <td>1.073769</td>\n",
              "      <td>1.202336</td>\n",
              "      <td>-0.104476</td>\n",
              "      <td>2.128324</td>\n",
              "      <td>1.434972</td>\n",
              "      <td>-0.282141</td>\n",
              "      <td>1.103885</td>\n",
              "      <td>-0.615231</td>\n",
              "      <td>0.168162</td>\n",
              "      <td>-0.815867</td>\n",
              "      <td>-0.087025</td>\n",
              "      <td>0.211665</td>\n",
              "      <td>-0.554643</td>\n",
              "      <td>-0.391175</td>\n",
              "      <td>2.292743</td>\n",
              "      <td>0.007712</td>\n",
              "      <td>2.534125</td>\n",
              "      <td>0.455612</td>\n",
              "      <td>0.307289</td>\n",
              "      <td>0.755678</td>\n",
              "      <td>1.245312</td>\n",
              "      <td>0.289029</td>\n",
              "      <td>0.0</td>\n",
              "    </tr>\n",
              "    <tr>\n",
              "      <th>3</th>\n",
              "      <td>-1.366504</td>\n",
              "      <td>-1.891127</td>\n",
              "      <td>-0.967533</td>\n",
              "      <td>1.092725</td>\n",
              "      <td>0.805803</td>\n",
              "      <td>0.598069</td>\n",
              "      <td>0.301975</td>\n",
              "      <td>0.356029</td>\n",
              "      <td>-0.606621</td>\n",
              "      <td>0.832324</td>\n",
              "      <td>-0.038171</td>\n",
              "      <td>-0.238016</td>\n",
              "      <td>-0.815754</td>\n",
              "      <td>-0.128875</td>\n",
              "      <td>-0.182177</td>\n",
              "      <td>-0.032708</td>\n",
              "      <td>-0.039251</td>\n",
              "      <td>0.123388</td>\n",
              "      <td>-0.090319</td>\n",
              "      <td>0.345322</td>\n",
              "      <td>0.078242</td>\n",
              "      <td>0.041725</td>\n",
              "      <td>-0.159929</td>\n",
              "      <td>0.099525</td>\n",
              "      <td>0.139103</td>\n",
              "      <td>0.009607</td>\n",
              "      <td>0.052601</td>\n",
              "      <td>-0.654550</td>\n",
              "      <td>-0.796664</td>\n",
              "      <td>0.173228</td>\n",
              "      <td>-0.081937</td>\n",
              "      <td>0.000020</td>\n",
              "      <td>0.239721</td>\n",
              "      <td>0.112502</td>\n",
              "      <td>-0.208860</td>\n",
              "      <td>-0.146288</td>\n",
              "      <td>0.200971</td>\n",
              "      <td>0.106027</td>\n",
              "      <td>0.203095</td>\n",
              "      <td>-0.184873</td>\n",
              "      <td>-0.023936</td>\n",
              "      <td>0.153321</td>\n",
              "      <td>-0.164697</td>\n",
              "      <td>-0.189150</td>\n",
              "      <td>0.267970</td>\n",
              "      <td>0.258149</td>\n",
              "      <td>-0.025147</td>\n",
              "      <td>0.145179</td>\n",
              "      <td>-0.243789</td>\n",
              "      <td>-0.075704</td>\n",
              "      <td>0.015361</td>\n",
              "      <td>-0.398574</td>\n",
              "      <td>-0.216775</td>\n",
              "      <td>0.016463</td>\n",
              "      <td>-0.036062</td>\n",
              "      <td>-0.093152</td>\n",
              "      <td>-0.402866</td>\n",
              "      <td>0.542206</td>\n",
              "      <td>-0.297316</td>\n",
              "      <td>0.159293</td>\n",
              "      <td>-0.093347</td>\n",
              "      <td>0.523525</td>\n",
              "      <td>-0.112732</td>\n",
              "      <td>-0.195517</td>\n",
              "      <td>0.179909</td>\n",
              "      <td>-0.136365</td>\n",
              "      <td>-0.405209</td>\n",
              "      <td>0.278737</td>\n",
              "      <td>-0.035376</td>\n",
              "      <td>-0.026665</td>\n",
              "      <td>0.0</td>\n",
              "    </tr>\n",
              "    <tr>\n",
              "      <th>4</th>\n",
              "      <td>-4.302241</td>\n",
              "      <td>0.177293</td>\n",
              "      <td>-0.840640</td>\n",
              "      <td>-0.438721</td>\n",
              "      <td>-0.301310</td>\n",
              "      <td>1.226191</td>\n",
              "      <td>1.016193</td>\n",
              "      <td>-0.339877</td>\n",
              "      <td>-1.021661</td>\n",
              "      <td>1.664209</td>\n",
              "      <td>1.556866</td>\n",
              "      <td>1.627428</td>\n",
              "      <td>0.091014</td>\n",
              "      <td>-0.435468</td>\n",
              "      <td>0.512947</td>\n",
              "      <td>-0.171256</td>\n",
              "      <td>0.218590</td>\n",
              "      <td>-0.059642</td>\n",
              "      <td>-0.000226</td>\n",
              "      <td>-0.250260</td>\n",
              "      <td>0.154865</td>\n",
              "      <td>-0.068957</td>\n",
              "      <td>0.862117</td>\n",
              "      <td>-0.512776</td>\n",
              "      <td>0.423551</td>\n",
              "      <td>0.480504</td>\n",
              "      <td>0.079454</td>\n",
              "      <td>-0.818694</td>\n",
              "      <td>-0.999009</td>\n",
              "      <td>0.473485</td>\n",
              "      <td>0.501032</td>\n",
              "      <td>-0.880199</td>\n",
              "      <td>-0.221914</td>\n",
              "      <td>1.077716</td>\n",
              "      <td>-0.111631</td>\n",
              "      <td>0.206046</td>\n",
              "      <td>-0.048579</td>\n",
              "      <td>-0.295754</td>\n",
              "      <td>-0.702541</td>\n",
              "      <td>0.268021</td>\n",
              "      <td>0.751270</td>\n",
              "      <td>1.445545</td>\n",
              "      <td>0.478479</td>\n",
              "      <td>0.546607</td>\n",
              "      <td>-0.125986</td>\n",
              "      <td>-0.103660</td>\n",
              "      <td>0.172136</td>\n",
              "      <td>-0.029870</td>\n",
              "      <td>0.004418</td>\n",
              "      <td>-0.183592</td>\n",
              "      <td>0.103583</td>\n",
              "      <td>0.218534</td>\n",
              "      <td>-0.548254</td>\n",
              "      <td>0.307475</td>\n",
              "      <td>0.017026</td>\n",
              "      <td>0.068526</td>\n",
              "      <td>0.077590</td>\n",
              "      <td>-0.107391</td>\n",
              "      <td>0.149932</td>\n",
              "      <td>0.046206</td>\n",
              "      <td>0.108552</td>\n",
              "      <td>-0.168257</td>\n",
              "      <td>-0.301332</td>\n",
              "      <td>-0.041387</td>\n",
              "      <td>-0.017949</td>\n",
              "      <td>-0.130373</td>\n",
              "      <td>0.164964</td>\n",
              "      <td>0.771515</td>\n",
              "      <td>0.360751</td>\n",
              "      <td>-0.058062</td>\n",
              "      <td>0.0</td>\n",
              "    </tr>\n",
              "  </tbody>\n",
              "</table>\n",
              "</div>"
            ],
            "text/plain": [
              "         0         1         2         3   ...        67        68        69   70\n",
              "0  7.068137 -1.360029  5.431321  1.807314  ... -0.730927  0.540556  0.648485  1.0\n",
              "1 -2.953374 -0.539958  0.056788 -0.912018  ... -0.507542 -0.122259 -0.040235  0.0\n",
              "2  0.710301 -0.043347 -1.244452  5.513695  ...  0.755678  1.245312  0.289029  0.0\n",
              "3 -1.366504 -1.891127 -0.967533  1.092725  ...  0.278737 -0.035376 -0.026665  0.0\n",
              "4 -4.302241  0.177293 -0.840640 -0.438721  ...  0.771515  0.360751 -0.058062  0.0\n",
              "\n",
              "[5 rows x 71 columns]"
            ]
          },
          "metadata": {
            "tags": []
          },
          "execution_count": 125
        }
      ]
    },
    {
      "cell_type": "code",
      "metadata": {
        "id": "buHvLz9FA_6k"
      },
      "source": [
        "obj_pred=pca_df[70]\r\n",
        "pca_df.drop(70,axis=1,inplace=True)\r\n",
        "from sklearn.model_selection import train_test_split\r\n"
      ],
      "execution_count": 128,
      "outputs": []
    },
    {
      "cell_type": "code",
      "metadata": {
        "id": "vgueKyRlHPZk"
      },
      "source": [
        "x_train,x_test,y_train,y_test=train_test_split(pca_df,obj_pred,train_size=0.75)"
      ],
      "execution_count": 129,
      "outputs": []
    },
    {
      "cell_type": "code",
      "metadata": {
        "id": "n8N94gKyIDTP"
      },
      "source": [
        "from sklearn.linear_model import LogisticRegression"
      ],
      "execution_count": 131,
      "outputs": []
    },
    {
      "cell_type": "code",
      "metadata": {
        "id": "kNcnWZUxI7gH"
      },
      "source": [
        "logisticRegr = LogisticRegression()"
      ],
      "execution_count": 132,
      "outputs": []
    },
    {
      "cell_type": "code",
      "metadata": {
        "colab": {
          "base_uri": "https://localhost:8080/"
        },
        "id": "EuzKPU9VJ4tn",
        "outputId": "d3254220-6ef6-4944-dc43-9fb9c9df8fa9"
      },
      "source": [
        "logisticRegr.fit(x_train, y_train)"
      ],
      "execution_count": 133,
      "outputs": [
        {
          "output_type": "execute_result",
          "data": {
            "text/plain": [
              "LogisticRegression(C=1.0, class_weight=None, dual=False, fit_intercept=True,\n",
              "                   intercept_scaling=1, l1_ratio=None, max_iter=100,\n",
              "                   multi_class='auto', n_jobs=None, penalty='l2',\n",
              "                   random_state=None, solver='lbfgs', tol=0.0001, verbose=0,\n",
              "                   warm_start=False)"
            ]
          },
          "metadata": {
            "tags": []
          },
          "execution_count": 133
        }
      ]
    },
    {
      "cell_type": "code",
      "metadata": {
        "colab": {
          "base_uri": "https://localhost:8080/"
        },
        "id": "jTTQBi_wJ6jo",
        "outputId": "d6a6620c-0e96-42e2-bfb2-e7fa0648d4f9"
      },
      "source": [
        "predictions = logisticRegr.predict(x_test)\r\n",
        "predictions.shape"
      ],
      "execution_count": 139,
      "outputs": [
        {
          "output_type": "execute_result",
          "data": {
            "text/plain": [
              "(7495,)"
            ]
          },
          "metadata": {
            "tags": []
          },
          "execution_count": 139
        }
      ]
    },
    {
      "cell_type": "code",
      "metadata": {
        "id": "N38cMC4iLX1f"
      },
      "source": [
        "import sklearn"
      ],
      "execution_count": 136,
      "outputs": []
    },
    {
      "cell_type": "code",
      "metadata": {
        "colab": {
          "base_uri": "https://localhost:8080/"
        },
        "id": "nT2-Pf0ZKA8G",
        "outputId": "b6a87f1e-1866-4657-9780-75bc967ec35e"
      },
      "source": [
        "sklearn.metrics.confusion_matrix(y_test,predictions)"
      ],
      "execution_count": 140,
      "outputs": [
        {
          "output_type": "execute_result",
          "data": {
            "text/plain": [
              "array([[6531,  108],\n",
              "       [ 658,  198]])"
            ]
          },
          "metadata": {
            "tags": []
          },
          "execution_count": 140
        }
      ]
    },
    {
      "cell_type": "code",
      "metadata": {
        "colab": {
          "base_uri": "https://localhost:8080/"
        },
        "id": "RvmCwqhjLRfR",
        "outputId": "29de5854-0a84-44f2-cc6c-f41686632961"
      },
      "source": [
        "sklearn.metrics.accuracy_score(y_test,predictions)"
      ],
      "execution_count": 142,
      "outputs": [
        {
          "output_type": "execute_result",
          "data": {
            "text/plain": [
              "0.8977985323549033"
            ]
          },
          "metadata": {
            "tags": []
          },
          "execution_count": 142
        }
      ]
    },
    {
      "cell_type": "code",
      "metadata": {
        "id": "0wHPDv4DNBs9"
      },
      "source": [
        ""
      ],
      "execution_count": null,
      "outputs": []
    }
  ]
}